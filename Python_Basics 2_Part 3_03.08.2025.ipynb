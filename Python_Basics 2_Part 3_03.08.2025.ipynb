{
 "cells": [
  {
   "cell_type": "markdown",
   "id": "0a1dbc89-3e7a-41f9-8818-26a1877c34e1",
   "metadata": {},
   "source": [
    "## 1. What is a Dictionary in Python?\n",
    "- A dictionary (dict) in Python is an unordered, mutable (changeable), and indexed collection of key-value pairs.\n",
    "- Keys must be unique and immutable (e.g., strings, numbers, tuples).\n",
    "- Values can be of any data type (e.g., integers, strings, lists, other dictionaries).\n",
    "- Dictionaries are defined using curly braces {} with key: value pairs separated by commas.\n",
    "\n",
    "Example:\n",
    "python\n",
    "student = {\n",
    "    \"name\": \"Alice\",\n",
    "    \"age\": 20,\n",
    "    \"courses\": [\"Math\", \"Physics\"],\n",
    "    \"is_enrolled\": True\n",
    "}\n",
    "\n",
    "## 2. Why Use Dictionaries in Python?\n",
    "- Dictionaries are used because:\n",
    "- Fast Lookup: Accessing values by keys is O(1) (very fast).\n",
    "- Flexible Data Storage: Store structured data (like JSON).\n",
    "- No Duplicate Keys: Ensures uniqueness.\n",
    "- Dynamic: Can add, modify, or delete key-value pairs at runtime.\n",
    "\n",
    "## 3. Where Are Dictionaries Used?\n",
    "- Dictionaries are used in:\n",
    "- Data Storage (e.g., configurations, user profiles, API responses).\n",
    "- Counting & Frequency Analysis (e.g., word count in text).\n",
    "- Caching & Memoization (storing computed results for reuse).\n",
    "- JSON Data Handling (converting between Python dicts and JSON).\n",
    "\n",
    "## 4. When to Use Dictionaries?\n",
    "- Use dictionaries when:\n",
    "- You need fast access to data using a key.\n",
    "- You want to map relationships (e.g., username → user data).\n",
    "- You need to count occurrences (e.g., word frequency).\n",
    "- You work with JSON-like nested data.\n",
    "\n"
   ]
  },
  {
   "cell_type": "code",
   "execution_count": null,
   "id": "ea347331-dfce-4cc2-9605-39df02a761fa",
   "metadata": {},
   "outputs": [],
   "source": [
    "# Dictionary Methods\n",
    "\n",
    " Method\t                                 Description\t                 Example\n",
    "--------                                --------------                  ----------\n",
    "keys()\t                               Returns all keys\t                person.keys()\n",
    "values()\t                          Returns all values\t            person.values()\n",
    "items()\t                            Returns key-value pairs\t            person.items()\n",
    "get(key, default)\t                 Safely get a value\t                person.get(\"age\", 0)\n",
    "pop(key)\t                       Removes and returns a value\t        person.pop(\"name\")\n",
    "update(dict2)\t                    Merges another dictionary\t        person.update({\"job\": \"Engineer\"})"
   ]
  },
  {
   "cell_type": "code",
   "execution_count": 2,
   "id": "0121c45d-1735-406d-beb1-ec126c826341",
   "metadata": {},
   "outputs": [],
   "source": [
    "# a) Creating a Dictionary\n",
    "# Method 1: Using {}\n",
    "person = {\"name\": \"Bob\", \"age\": 25}\n",
    "\n",
    "# Method 2: Using dict()\n",
    "person = dict(name=\"Bob\", age=25)"
   ]
  },
  {
   "cell_type": "code",
   "execution_count": 3,
   "id": "f9296047-1fca-4bbf-a4b7-9530399c84db",
   "metadata": {},
   "outputs": [
    {
     "name": "stdout",
     "output_type": "stream",
     "text": [
      "{'name': 'Bob', 'age': 25}\n"
     ]
    }
   ],
   "source": [
    "print(person)"
   ]
  },
  {
   "cell_type": "code",
   "execution_count": 4,
   "id": "bab837f5-b6bc-47be-8213-7be9c14ffabc",
   "metadata": {},
   "outputs": [
    {
     "name": "stdout",
     "output_type": "stream",
     "text": [
      "Bob\n"
     ]
    }
   ],
   "source": [
    "# b) Accessing Values\n",
    "print(person[\"name\"])"
   ]
  },
  {
   "cell_type": "code",
   "execution_count": 5,
   "id": "80795a7b-137b-4d14-b6b7-45c4d55f28d8",
   "metadata": {},
   "outputs": [
    {
     "name": "stdout",
     "output_type": "stream",
     "text": [
      "Not Found\n"
     ]
    }
   ],
   "source": [
    "print(person.get(\"address\", \"Not Found\"))"
   ]
  },
  {
   "cell_type": "code",
   "execution_count": 6,
   "id": "3b31351e-666c-468f-8a4f-5c184ebd2d86",
   "metadata": {},
   "outputs": [],
   "source": [
    "# c) Modifying a Dictionary\n",
    "# Add/Update a key\n",
    "person[\"city\"] = \"New York\""
   ]
  },
  {
   "cell_type": "code",
   "execution_count": 7,
   "id": "886002aa-5060-4abf-af85-4a8cb747371b",
   "metadata": {},
   "outputs": [
    {
     "name": "stdout",
     "output_type": "stream",
     "text": [
      "{'name': 'Bob', 'age': 25, 'city': 'New York'}\n"
     ]
    }
   ],
   "source": [
    "print(person)"
   ]
  },
  {
   "cell_type": "code",
   "execution_count": 8,
   "id": "dc584716-daf8-4d9a-b06e-a35f4ca38bb4",
   "metadata": {},
   "outputs": [],
   "source": [
    "# Remove a key\n",
    "del person[\"age\"]"
   ]
  },
  {
   "cell_type": "code",
   "execution_count": 9,
   "id": "96596368-e932-4be0-b48c-af38b4bca29f",
   "metadata": {},
   "outputs": [
    {
     "name": "stdout",
     "output_type": "stream",
     "text": [
      "{'name': 'Bob', 'city': 'New York'}\n"
     ]
    }
   ],
   "source": [
    "print(person)"
   ]
  },
  {
   "cell_type": "code",
   "execution_count": 10,
   "id": "418a074e-0eda-4a8e-a132-5be322d702a0",
   "metadata": {},
   "outputs": [
    {
     "name": "stdout",
     "output_type": "stream",
     "text": [
      "name\n",
      "city\n"
     ]
    }
   ],
   "source": [
    "# d) Looping Through a Dictionary\n",
    "# Loop through keys\n",
    "for key in person:\n",
    "    print(key)"
   ]
  },
  {
   "cell_type": "code",
   "execution_count": 11,
   "id": "15683cc1-842a-4c41-b9d6-dd3628c4c873",
   "metadata": {},
   "outputs": [
    {
     "name": "stdout",
     "output_type": "stream",
     "text": [
      "name: Bob\n",
      "city: New York\n"
     ]
    }
   ],
   "source": [
    "# Loop through key-value pairs\n",
    "for key, value in person.items():\n",
    "    print(f\"{key}: {value}\")"
   ]
  },
  {
   "cell_type": "code",
   "execution_count": 20,
   "id": "1fbab565-33d5-405b-bcc5-ef42d503b922",
   "metadata": {},
   "outputs": [],
   "source": [
    "#  Nested Dictionaries (Advanced Usage) : Dictionaries can store other dictionaries:\n",
    "employees = {\n",
    "    \"emp1\": {\"name\": \"Alice\", \"salary\": 60000},\n",
    "    \"emp2\": {\"name\": \"Bob\", \"salary\": 75000}\n",
    "}\n"
   ]
  },
  {
   "cell_type": "code",
   "execution_count": 13,
   "id": "84decabe-b49c-483e-af0e-b2e2b9543c93",
   "metadata": {},
   "outputs": [
    {
     "name": "stdout",
     "output_type": "stream",
     "text": [
      "Alice\n"
     ]
    }
   ],
   "source": [
    "print(employees[\"emp1\"][\"name\"])"
   ]
  },
  {
   "cell_type": "code",
   "execution_count": 14,
   "id": "243bf3d4-aca6-4404-a5c7-6bc76c200ef6",
   "metadata": {},
   "outputs": [
    {
     "name": "stdout",
     "output_type": "stream",
     "text": [
      "75000\n"
     ]
    }
   ],
   "source": [
    "print(employees[\"emp2\"][\"salary\"])"
   ]
  },
  {
   "cell_type": "code",
   "execution_count": 22,
   "id": "f8539cc3-a908-42aa-958b-ce841f997c58",
   "metadata": {},
   "outputs": [],
   "source": [
    "# Adding items in Dictionaries\n",
    "employees.update({ \"emp3\": {\"name\": \"Phani\", \"salary\": 200000}})"
   ]
  },
  {
   "cell_type": "code",
   "execution_count": 23,
   "id": "5fd38e78-4798-4817-a99a-fe731dbe91c0",
   "metadata": {},
   "outputs": [
    {
     "name": "stdout",
     "output_type": "stream",
     "text": [
      "{'emp1': {'name': 'Alice', 'salary': 60000}, 'emp2': {'name': 'Bob', 'salary': 75000}, 'emp3': {'name': 'Phani', 'salary': 200000}}\n"
     ]
    }
   ],
   "source": [
    "print(employees)"
   ]
  },
  {
   "cell_type": "code",
   "execution_count": null,
   "id": "1663e2e6-c316-423e-9ae9-e8ff514e9d0f",
   "metadata": {},
   "outputs": [],
   "source": []
  },
  {
   "cell_type": "code",
   "execution_count": null,
   "id": "cfc60a0c-f5ff-4342-afa1-ffe4057cbc17",
   "metadata": {},
   "outputs": [],
   "source": []
  },
  {
   "cell_type": "markdown",
   "id": "ac048085-1e3e-4b77-9d96-2fa3b77facb8",
   "metadata": {},
   "source": [
    "### Conclusion\n",
    "- Dictionaries (dict) are key-value pairs for fast data access.\n",
    "- Use them for structured data, counting, caching, and JSON handling.\n",
    "- Operations include adding, updating, deleting, and looping.\n",
    "- Real-world uses: Configurations, frequency counting, API responses."
   ]
  },
  {
   "cell_type": "markdown",
   "id": "4b4950cd-e820-406f-bdda-c108afb3cdaf",
   "metadata": {},
   "source": [
    "# Tuples in Python"
   ]
  },
  {
   "cell_type": "markdown",
   "id": "76ab17a2-c9ad-44f0-aa55-0753a7702cee",
   "metadata": {},
   "source": [
    "### What is a Tuple in Python?\n",
    "- A tuple is an ordered, immutable (unchangeable) collection of elements enclosed in parentheses ().\n",
    "- Similar to lists, but cannot be modified after creation.\n",
    "- Heterogeneous (can store different data types).\n",
    "- Indexed (elements can be accessed by position)\n",
    "\n",
    "### Why Use Tuples in Python?\n",
    "Tuples are used because:\n",
    "- Immutable: Safer for data that shouldn’t change (e.g., constants, configurations).\n",
    "- Faster than lists: Optimized for read-only operations.\n",
    "- Hashable: Can be used as keys in dictionaries (unlike lists).\n",
    "- Memory-efficient: Consumes less space than lists.\n",
    "\n",
    "### When to Use Tuples?\n",
    "Use tuples when:\n",
    "- You need fixed data (e.g., days of the week, coordinates).\n",
    "- You want to ensure data integrity (prevents accidental modification).\n",
    "- You need dictionary keys (lists can’t be keys, tuples can).\n",
    "- You work with function return values (multiple values in one object).\n",
    "\n",
    "### Where Are Tuples Used?\n",
    "Common use cases:\n",
    "- Storing constants (e.g., COLORS = (\"RED\", \"GREEN\", \"BLUE\")).\n",
    "- Function arguments & return values (e.g., return (x, y)).\n",
    "- Database records (each row can be a tuple).\n",
    "- Dictionary keys (e.g., coordinates = {(1, 2): \"Point A\"}).\n"
   ]
  },
  {
   "cell_type": "code",
   "execution_count": 1,
   "id": "9b15702f-c6cf-40b4-bda6-0b0e6cd81a20",
   "metadata": {},
   "outputs": [],
   "source": [
    "# a) Creating a Tuple\n",
    "# Method 1: Using ()\n",
    "tuple1 = (1, 2, 3)"
   ]
  },
  {
   "cell_type": "code",
   "execution_count": 2,
   "id": "2feff5a7-b8e9-4c65-af8c-b535729bfa04",
   "metadata": {},
   "outputs": [
    {
     "name": "stdout",
     "output_type": "stream",
     "text": [
      "(1, 2, 3)\n"
     ]
    }
   ],
   "source": [
    "print(tuple1)"
   ]
  },
  {
   "cell_type": "code",
   "execution_count": 3,
   "id": "fc04d7e8-1046-4bd0-a052-7b3fe325a83c",
   "metadata": {},
   "outputs": [],
   "source": [
    "# Method 2: Without () (comma-separated)\n",
    "tuple2 = \"Alice\", 25, \"Engineer\""
   ]
  },
  {
   "cell_type": "code",
   "execution_count": 4,
   "id": "003e9a37-bdb2-47ab-961d-01af3395fcd7",
   "metadata": {},
   "outputs": [
    {
     "name": "stdout",
     "output_type": "stream",
     "text": [
      "('Alice', 25, 'Engineer')\n"
     ]
    }
   ],
   "source": [
    "print(tuple2)"
   ]
  },
  {
   "cell_type": "code",
   "execution_count": 5,
   "id": "12460e8f-cee5-485b-b0f3-16cdd40b5e40",
   "metadata": {},
   "outputs": [],
   "source": [
    "# Single-element tuple (needs a trailing comma)\n",
    "single = (\"Hello\",)"
   ]
  },
  {
   "cell_type": "code",
   "execution_count": 6,
   "id": "c76d46a5-a108-4110-9024-48bbb7269c7c",
   "metadata": {},
   "outputs": [
    {
     "name": "stdout",
     "output_type": "stream",
     "text": [
      "('Hello',)\n"
     ]
    }
   ],
   "source": [
    "print(single)"
   ]
  },
  {
   "cell_type": "code",
   "execution_count": 7,
   "id": "2d589a7d-7c2b-4b36-b3cb-8d998949978c",
   "metadata": {},
   "outputs": [],
   "source": [
    "# b) Accessing Tuple Elements\n",
    "person = (\"Alice\", 25, \"New York\")"
   ]
  },
  {
   "cell_type": "code",
   "execution_count": 8,
   "id": "43b9ad3e-d6b9-48dd-b8ca-8eb1c784e393",
   "metadata": {},
   "outputs": [
    {
     "name": "stdout",
     "output_type": "stream",
     "text": [
      "Alice\n"
     ]
    }
   ],
   "source": [
    "print(person[0])"
   ]
  },
  {
   "cell_type": "code",
   "execution_count": 9,
   "id": "6cfc6d70-ff0b-4a00-aaef-59a2edc213f2",
   "metadata": {},
   "outputs": [
    {
     "name": "stdout",
     "output_type": "stream",
     "text": [
      "New York\n"
     ]
    }
   ],
   "source": [
    "print(person[-1])"
   ]
  },
  {
   "cell_type": "code",
   "execution_count": 10,
   "id": "95074afd-08e9-400e-ab91-9945a327655b",
   "metadata": {},
   "outputs": [],
   "source": [
    "# c) Slicing a Tuple\n",
    "numbers = (10, 20, 30, 40, 50)"
   ]
  },
  {
   "cell_type": "code",
   "execution_count": 11,
   "id": "23be29f6-8333-4a24-af71-c196b0547644",
   "metadata": {},
   "outputs": [
    {
     "name": "stdout",
     "output_type": "stream",
     "text": [
      "(20, 30, 40)\n"
     ]
    }
   ],
   "source": [
    "print(numbers[1:4])"
   ]
  },
  {
   "cell_type": "code",
   "execution_count": 12,
   "id": "019838f8-29b2-4604-af7b-f69300afef3a",
   "metadata": {},
   "outputs": [],
   "source": [
    "# d) Unpacking a Tuple\n",
    "name, age, city = (\"Alice\", 25, \"New York\")"
   ]
  },
  {
   "cell_type": "code",
   "execution_count": 13,
   "id": "6fe36884-0f05-4ad2-9d31-8bfe9bcbc4f2",
   "metadata": {},
   "outputs": [
    {
     "name": "stdout",
     "output_type": "stream",
     "text": [
      "Alice\n"
     ]
    }
   ],
   "source": [
    "print(name)"
   ]
  },
  {
   "cell_type": "code",
   "execution_count": 14,
   "id": "52fe829b-6465-4a2f-ac3f-57362e0e9dac",
   "metadata": {},
   "outputs": [],
   "source": [
    "# e) Immutable Nature (Cannot Modify)\n",
    "person = (\"Alice\", 25)"
   ]
  },
  {
   "cell_type": "code",
   "execution_count": 15,
   "id": "aa7ae09e-c888-4aa4-9e64-948ae4f60efe",
   "metadata": {},
   "outputs": [
    {
     "ename": "TypeError",
     "evalue": "'tuple' object does not support item assignment",
     "output_type": "error",
     "traceback": [
      "\u001b[1;31m---------------------------------------------------------------------------\u001b[0m",
      "\u001b[1;31mTypeError\u001b[0m                                 Traceback (most recent call last)",
      "Cell \u001b[1;32mIn[15], line 1\u001b[0m\n\u001b[1;32m----> 1\u001b[0m person[\u001b[38;5;241m1\u001b[39m] \u001b[38;5;241m=\u001b[39m \u001b[38;5;241m26\u001b[39m\n",
      "\u001b[1;31mTypeError\u001b[0m: 'tuple' object does not support item assignment"
     ]
    }
   ],
   "source": [
    "person[1] = 26"
   ]
  },
  {
   "cell_type": "code",
   "execution_count": null,
   "id": "f2c2da38-dbe9-45aa-a21a-f9c3ee6b00d8",
   "metadata": {},
   "outputs": [],
   "source": []
  },
  {
   "cell_type": "code",
   "execution_count": null,
   "id": "d0d6e07d-86d5-4ccb-8092-a44131cdd99e",
   "metadata": {},
   "outputs": [],
   "source": []
  },
  {
   "cell_type": "code",
   "execution_count": null,
   "id": "2048e146-8bf7-49ca-ad6b-521b9e0bde29",
   "metadata": {},
   "outputs": [],
   "source": []
  },
  {
   "cell_type": "code",
   "execution_count": null,
   "id": "5f90b432-9d03-4908-b46f-b63ad832c9da",
   "metadata": {},
   "outputs": [],
   "source": []
  },
  {
   "cell_type": "code",
   "execution_count": null,
   "id": "3537a81e-1ae2-44eb-88bc-95bd5b9825d6",
   "metadata": {},
   "outputs": [],
   "source": []
  },
  {
   "cell_type": "code",
   "execution_count": null,
   "id": "7b65af42-d48c-4cd2-b38d-872b8e2cf862",
   "metadata": {},
   "outputs": [],
   "source": []
  },
  {
   "cell_type": "code",
   "execution_count": null,
   "id": "0c760cbc-0f66-4358-aeed-cdd867dc8b1a",
   "metadata": {},
   "outputs": [],
   "source": []
  }
 ],
 "metadata": {
  "kernelspec": {
   "display_name": "Python [conda env:base] *",
   "language": "python",
   "name": "conda-base-py"
  },
  "language_info": {
   "codemirror_mode": {
    "name": "ipython",
    "version": 3
   },
   "file_extension": ".py",
   "mimetype": "text/x-python",
   "name": "python",
   "nbconvert_exporter": "python",
   "pygments_lexer": "ipython3",
   "version": "3.13.5"
  }
 },
 "nbformat": 4,
 "nbformat_minor": 5
}
