{
 "cells": [
  {
   "cell_type": "markdown",
   "id": "8bf62220-edc3-4f0e-844b-b5d8bf047f37",
   "metadata": {},
   "source": [
    "# What are Sets in Python?\n",
    "### Sets are an unordered, mutable collection of unique elements in Python. They are similar to mathematical sets and have the following key characteristics:\n",
    "- Unordered: Elements have no defined order\n",
    "- Mutable: You can add/remove elements\n",
    "- Unique: No duplicate elements allowed\n",
    "- Can contain only hashable (immutable) types\n",
    "\n",
    "# Why We Use Sets in Python\n",
    "### Sets are particularly useful for:\n",
    "- Removing duplicates from a sequence\n",
    "- Membership testing (very fast - O(1) complexity)\n",
    "- Mathematical operations like unions, intersections, differences\n",
    "- Efficient lookups when order doesn't matter\n",
    "- Filtering unique elements from data\n",
    "\n",
    "# Where We Use Sets in Python\n",
    "### Common use cases include:\n",
    "- Data cleaning (removing duplicates)\n",
    "- Finding unique items in large datasets\n",
    "- Comparing groups of items\n",
    "- Graph algorithms (tracking visited nodes)\n",
    "- Database operations (when working with unique IDs)\n",
    "- Natural language processing (unique word collections)\n",
    "\n",
    "# When We Use Sets in Python\n",
    "### You should consider using sets when:\n",
    "- You need to eliminate duplicate values\n",
    "- You need fast membership testing\n",
    "- The order of elements doesn't matter\n",
    "- You need to perform set operations (union, intersection, etc.)\n",
    "\n",
    "\n",
    "\n",
    "- Memory efficiency is important (sets are more memory efficient than lists for unique items)"
   ]
  },
  {
   "cell_type": "code",
   "execution_count": 15,
   "id": "2fbc14b0-e1a6-423f-90cf-e42a6d8e13dd",
   "metadata": {},
   "outputs": [],
   "source": [
    "# Create an empty set\n",
    "set_var = ()"
   ]
  },
  {
   "cell_type": "code",
   "execution_count": 39,
   "id": "23e779bb-d807-4f75-b327-c1f11db1b75e",
   "metadata": {},
   "outputs": [],
   "source": [
    "# It will Remove duplicates from a sequence\n",
    "set_var= {1, 2, 3, 4,3}"
   ]
  },
  {
   "cell_type": "code",
   "execution_count": 37,
   "id": "dafa5af0-7659-49a2-a4a2-9fa9df850288",
   "metadata": {},
   "outputs": [
    {
     "name": "stdout",
     "output_type": "stream",
     "text": [
      "{1, 2, 3, 4}\n"
     ]
    }
   ],
   "source": [
    "print(set_var) # It will Remove duplicates from a sequence"
   ]
  },
  {
   "cell_type": "code",
   "execution_count": 21,
   "id": "ac06f56f-271d-4f8c-8b2a-d374dd02f7c5",
   "metadata": {},
   "outputs": [
    {
     "name": "stdout",
     "output_type": "stream",
     "text": [
      "<class 'set'>\n"
     ]
    }
   ],
   "source": [
    "print(type(set_var))"
   ]
  },
  {
   "cell_type": "code",
   "execution_count": 40,
   "id": "661bb0dc-fb11-4fd2-aefe-ef2b8d434dff",
   "metadata": {},
   "outputs": [],
   "source": [
    "set_var1 = {'Baahubali2', 'Pushpa', 'Baahubali'}"
   ]
  },
  {
   "cell_type": "code",
   "execution_count": 41,
   "id": "427d965b-4c46-4e7a-a814-4cb0b90fc3ab",
   "metadata": {},
   "outputs": [
    {
     "name": "stdout",
     "output_type": "stream",
     "text": [
      "{'Baahubali2', 'Pushpa', 'Baahubali'}\n"
     ]
    }
   ],
   "source": [
    "print(set_var1)"
   ]
  },
  {
   "cell_type": "code",
   "execution_count": 42,
   "id": "7305828e-fa3b-4a0a-aba8-b77120c9a8d8",
   "metadata": {},
   "outputs": [],
   "source": [
    "# In-built function\n",
    "set_var1.add('Pushpa')"
   ]
  },
  {
   "cell_type": "code",
   "execution_count": 43,
   "id": "64a77ba5-7ed7-4684-ae0e-f61b3e382419",
   "metadata": {},
   "outputs": [
    {
     "name": "stdout",
     "output_type": "stream",
     "text": [
      "{'Baahubali2', 'Pushpa2', 'Pushpa', 'Baahubali'}\n"
     ]
    }
   ],
   "source": [
    "print(set_var1)"
   ]
  },
  {
   "cell_type": "code",
   "execution_count": null,
   "id": "149a7bd7-8b3e-4cbc-9a98-84c71492bff2",
   "metadata": {},
   "outputs": [],
   "source": [
    "# Summary Table of Set Methods\n",
    "\t\t\n",
    "## Method\t                              Description\t                Example\n",
    "add(x)\t                            Adds a single element x         \ts.add(5)\n",
    "update(iterable)\t                 Adds multiple elements\t            s.update([4, 5])\n",
    "remove(x)\t                     Removes x (raises error if missing)\ts.remove(3)\n",
    "discard(x)\t                     Removes x (no error if missing)\t    s.discard(3)\n",
    "pop()\t                         Removes & returns a random element \tx = s.pop()\n",
    "clear()\t                              Removes all elements          \ts.clear()\n",
    "union(s2) (  )\t                       Combines two sets\t            s1.union(s2)\n",
    "intersection(s2)(&)                Returns common elements          \ts1 & s2\n",
    "difference(s2) (-)\t               Returns elements in s1 but not s2\ts1 - s2\n",
    "symmetric_difference(s2) (^)     Elements in either set but not both\ts1 ^ s2\n",
    "issubset(s2) (<=)\t                  Checks if s1 is a subset of s2\ts1 <= s2\n",
    "issuperset(s2) (>=)             \tChecks if s1 is a superset of s2\ts1 >= s2\n",
    "isdisjoint(s2)\t              Checks if sets have no common elements\ts1.isdisjoint(s2)\n",
    "copy()\t                              Creates a shallow copy\t        s2 = s1.copy()\n"
   ]
  },
  {
   "cell_type": "markdown",
   "id": "3edc5fc6-6cd4-4b81-b2e0-dc056edb5791",
   "metadata": {},
   "source": [
    "### Adding Elements"
   ]
  },
  {
   "cell_type": "code",
   "execution_count": 45,
   "id": "0503f4a2-0549-4fe6-9ae8-3e9a452bac6e",
   "metadata": {},
   "outputs": [],
   "source": [
    "# add() : Adds a single element to the set.\n",
    "fruits = {\"apple\", \"banana\"}\n",
    "fruits.add(\"Orange\")"
   ]
  },
  {
   "cell_type": "code",
   "execution_count": 46,
   "id": "fbb6fa46-6bc6-4c75-a1a0-b2f4681bff0a",
   "metadata": {},
   "outputs": [
    {
     "name": "stdout",
     "output_type": "stream",
     "text": [
      "{'Orange', 'apple', 'banana'}\n"
     ]
    }
   ],
   "source": [
    "print(fruits)"
   ]
  },
  {
   "cell_type": "code",
   "execution_count": 47,
   "id": "9569192b-12dd-4b5b-ab98-2cd9520824b8",
   "metadata": {},
   "outputs": [],
   "source": [
    "# update() : Adds multiple elements (from a list, tuple, or another set).\n",
    "fruits.update([\"mango\", \"grapes\"])"
   ]
  },
  {
   "cell_type": "code",
   "execution_count": 48,
   "id": "d2e930c3-e45e-45d0-bc32-e905b5903e71",
   "metadata": {},
   "outputs": [
    {
     "name": "stdout",
     "output_type": "stream",
     "text": [
      "{'mango', 'banana', 'Orange', 'apple', 'grapes'}\n"
     ]
    }
   ],
   "source": [
    "print(fruits)"
   ]
  },
  {
   "cell_type": "markdown",
   "id": "fb867844-2892-4770-8c14-42e80dc8bfbf",
   "metadata": {},
   "source": [
    "### Removing Elements"
   ]
  },
  {
   "cell_type": "code",
   "execution_count": 50,
   "id": "1a5dc33e-ec85-46ad-8a45-9ec4abed7c7f",
   "metadata": {},
   "outputs": [],
   "source": [
    "# remove() : Removes an element (raises KeyError if not found).\n",
    "numbers = {1, 2, 3}\n",
    "numbers.remove(2) # Removes 2"
   ]
  },
  {
   "cell_type": "code",
   "execution_count": 51,
   "id": "55289548-77d3-4d54-b94b-a21cd2a4a984",
   "metadata": {},
   "outputs": [
    {
     "name": "stdout",
     "output_type": "stream",
     "text": [
      "{1, 3}\n"
     ]
    }
   ],
   "source": [
    "print(numbers)"
   ]
  },
  {
   "cell_type": "code",
   "execution_count": 52,
   "id": "4aa02dd0-9f23-4bc9-9028-63fc2a081576",
   "metadata": {},
   "outputs": [
    {
     "ename": "KeyError",
     "evalue": "5",
     "output_type": "error",
     "traceback": [
      "\u001b[1;31m---------------------------------------------------------------------------\u001b[0m",
      "\u001b[1;31mKeyError\u001b[0m                                  Traceback (most recent call last)",
      "Cell \u001b[1;32mIn[52], line 1\u001b[0m\n\u001b[1;32m----> 1\u001b[0m numbers\u001b[38;5;241m.\u001b[39mremove(\u001b[38;5;241m5\u001b[39m)\n",
      "\u001b[1;31mKeyError\u001b[0m: 5"
     ]
    }
   ],
   "source": [
    "numbers.remove(5) # (raises KeyError if not found)"
   ]
  },
  {
   "cell_type": "code",
   "execution_count": null,
   "id": "7af3f816-38dd-4659-b69b-5f7ba85719e1",
   "metadata": {},
   "outputs": [],
   "source": [
    "# discard() : Removes an element (does not raise an error if missing).\n"
   ]
  },
  {
   "cell_type": "code",
   "execution_count": 54,
   "id": "67ffe64a-f51b-4650-b55d-19256fc38ff2",
   "metadata": {},
   "outputs": [],
   "source": [
    "numbers = {1, 2, 3}\n",
    "numbers.discard(2) # Removes 2"
   ]
  },
  {
   "cell_type": "code",
   "execution_count": 55,
   "id": "2edd63b1-68e7-4af4-a76c-ce002590e8b0",
   "metadata": {},
   "outputs": [
    {
     "name": "stdout",
     "output_type": "stream",
     "text": [
      "{1, 3}\n"
     ]
    }
   ],
   "source": [
    "print(numbers)"
   ]
  },
  {
   "cell_type": "code",
   "execution_count": 56,
   "id": "ff8a33d1-e389-4066-9851-ad5b13186d7e",
   "metadata": {},
   "outputs": [],
   "source": [
    "numbers.discard(5) # Does nothing"
   ]
  },
  {
   "cell_type": "code",
   "execution_count": 57,
   "id": "8df7f1fc-7360-4957-9966-dc3b9819ea0a",
   "metadata": {},
   "outputs": [],
   "source": [
    "# pop() : Removes and returns a random element (since sets are unordered).\n",
    "letters = {\"a\", \"b\", \"c\"}\n"
   ]
  },
  {
   "cell_type": "code",
   "execution_count": 58,
   "id": "6d2053a2-e93f-4c46-8f60-a551e9b2b327",
   "metadata": {},
   "outputs": [
    {
     "name": "stdout",
     "output_type": "stream",
     "text": [
      "{'a', 'b', 'c'}\n"
     ]
    }
   ],
   "source": [
    "print(letters)"
   ]
  },
  {
   "cell_type": "code",
   "execution_count": 59,
   "id": "2bbd632c-b722-4b76-b93b-b1a3c2e89096",
   "metadata": {},
   "outputs": [],
   "source": [
    "removed = letters.pop()"
   ]
  },
  {
   "cell_type": "code",
   "execution_count": 60,
   "id": "f52f1a7c-97a7-411b-90fc-4abe1c1204c3",
   "metadata": {},
   "outputs": [
    {
     "name": "stdout",
     "output_type": "stream",
     "text": [
      "a\n"
     ]
    }
   ],
   "source": [
    "print(removed) # Could be 'a', 'b', or 'c'"
   ]
  },
  {
   "cell_type": "code",
   "execution_count": 61,
   "id": "34f14e8f-7311-4f37-bead-cd5b4f6b3e2e",
   "metadata": {},
   "outputs": [
    {
     "name": "stdout",
     "output_type": "stream",
     "text": [
      "{'b', 'c'}\n"
     ]
    }
   ],
   "source": [
    "print(letters) # Remaining elements"
   ]
  },
  {
   "cell_type": "code",
   "execution_count": 62,
   "id": "805195b4-6bed-4110-95be-ad8156d9023b",
   "metadata": {},
   "outputs": [],
   "source": [
    "# clear(): Removes all elements from the set.\n",
    "numbers = {1, 2, 3}"
   ]
  },
  {
   "cell_type": "code",
   "execution_count": 63,
   "id": "b3cdddc1-12a8-4408-8fec-4ebd6dfaa859",
   "metadata": {},
   "outputs": [
    {
     "name": "stdout",
     "output_type": "stream",
     "text": [
      "{1, 2, 3}\n"
     ]
    }
   ],
   "source": [
    "print(numbers)"
   ]
  },
  {
   "cell_type": "code",
   "execution_count": 64,
   "id": "ba8285c1-292d-4da7-9e46-f1cb70d4c121",
   "metadata": {},
   "outputs": [],
   "source": [
    "numbers.clear()# Removes all elements from the set."
   ]
  },
  {
   "cell_type": "code",
   "execution_count": 65,
   "id": "a19b6f22-e744-4296-b726-d3a019c4f1a4",
   "metadata": {},
   "outputs": [
    {
     "name": "stdout",
     "output_type": "stream",
     "text": [
      "set()\n"
     ]
    }
   ],
   "source": [
    "print(numbers)"
   ]
  },
  {
   "cell_type": "markdown",
   "id": "87e4c8d9-7543-4649-9bc8-f957536703e5",
   "metadata": {},
   "source": [
    "### Set Operators"
   ]
  },
  {
   "cell_type": "code",
   "execution_count": 66,
   "id": "a91eab20-7291-4aa0-ad5b-8b74c4cf030a",
   "metadata": {},
   "outputs": [],
   "source": [
    "# union() (|): Combines two sets (returns a new set). \n",
    "# print(A.union(B)) = print(A | B) \n",
    "A = {1, 2}\n",
    "B = {2, 3}"
   ]
  },
  {
   "cell_type": "code",
   "execution_count": 67,
   "id": "3bd60a8b-bcfa-4f5e-86d2-a5f6e67a6e9c",
   "metadata": {},
   "outputs": [
    {
     "name": "stdout",
     "output_type": "stream",
     "text": [
      "{1, 2, 3}\n"
     ]
    }
   ],
   "source": [
    "print(A.union(B))"
   ]
  },
  {
   "cell_type": "code",
   "execution_count": 68,
   "id": "7757f2c9-e712-471d-a4dd-32b5c5a043b7",
   "metadata": {},
   "outputs": [
    {
     "name": "stdout",
     "output_type": "stream",
     "text": [
      "{1, 2, 3}\n"
     ]
    }
   ],
   "source": [
    "print(A | B) "
   ]
  },
  {
   "cell_type": "code",
   "execution_count": 69,
   "id": "7669f2bd-33fe-4d74-99fd-58f025d0e342",
   "metadata": {},
   "outputs": [],
   "source": [
    "# intersection() (&) : Returns common elements.\n",
    "# print(A.intersection(B)) = print(A & B) \n",
    "A = {1, 2, 3}\n",
    "B = {2, 3, 4}"
   ]
  },
  {
   "cell_type": "code",
   "execution_count": 70,
   "id": "b755f6f0-8378-4147-804e-eb3c0387c39c",
   "metadata": {},
   "outputs": [
    {
     "name": "stdout",
     "output_type": "stream",
     "text": [
      "{2, 3}\n"
     ]
    }
   ],
   "source": [
    "print(A.intersection(B))"
   ]
  },
  {
   "cell_type": "code",
   "execution_count": 71,
   "id": "c998ac5e-bd5e-4923-ae17-5fae6054c4ee",
   "metadata": {},
   "outputs": [
    {
     "name": "stdout",
     "output_type": "stream",
     "text": [
      "{2, 3}\n"
     ]
    }
   ],
   "source": [
    "print(A & B) "
   ]
  },
  {
   "cell_type": "code",
   "execution_count": 74,
   "id": "02649a4d-6c09-4070-8f95-670350574609",
   "metadata": {},
   "outputs": [],
   "source": [
    "# difference() (-) : Returns elements in A but not in B.\n",
    "# print(A.difference(B)) = print(A - B)  , print(B.difference(A)) = print(B - A) \n",
    "A = {1, 2, 3}\n",
    "B = {2, 3, 4}"
   ]
  },
  {
   "cell_type": "code",
   "execution_count": 72,
   "id": "0125116d-638d-4dbf-9984-8d913063e123",
   "metadata": {},
   "outputs": [
    {
     "name": "stdout",
     "output_type": "stream",
     "text": [
      "{1}\n"
     ]
    }
   ],
   "source": [
    "print(A.difference(B))"
   ]
  },
  {
   "cell_type": "code",
   "execution_count": 73,
   "id": "75d46f04-6b82-4019-b628-308198bc038a",
   "metadata": {},
   "outputs": [
    {
     "name": "stdout",
     "output_type": "stream",
     "text": [
      "{1}\n"
     ]
    }
   ],
   "source": [
    "print(A - B)  "
   ]
  },
  {
   "cell_type": "code",
   "execution_count": 75,
   "id": "4dffc7d9-558c-4e40-8c7c-30ce1ece69dc",
   "metadata": {},
   "outputs": [
    {
     "name": "stdout",
     "output_type": "stream",
     "text": [
      "{4}\n"
     ]
    }
   ],
   "source": [
    "print(B.difference(A))"
   ]
  },
  {
   "cell_type": "code",
   "execution_count": 76,
   "id": "20ea1f76-8fe8-4002-b7b5-1d89ccc4d6e0",
   "metadata": {},
   "outputs": [
    {
     "name": "stdout",
     "output_type": "stream",
     "text": [
      "{4}\n"
     ]
    }
   ],
   "source": [
    "print(B - A) "
   ]
  },
  {
   "cell_type": "code",
   "execution_count": 77,
   "id": "66b7db3c-a645-4400-99a2-3710683152cc",
   "metadata": {},
   "outputs": [],
   "source": [
    "# symmetric_difference() (^) : Returns elements in either set but not both.\n",
    "# print(A.symmetric_difference(B)) = print(A ^ B)  \n",
    "A = {1, 2, 3}\n",
    "B = {3, 4, 5}"
   ]
  },
  {
   "cell_type": "code",
   "execution_count": 78,
   "id": "f6a46fd8-5296-454b-9799-6804ae993ac3",
   "metadata": {},
   "outputs": [
    {
     "name": "stdout",
     "output_type": "stream",
     "text": [
      "{1, 2, 4, 5}\n"
     ]
    }
   ],
   "source": [
    "print(A.symmetric_difference(B))"
   ]
  },
  {
   "cell_type": "code",
   "execution_count": 79,
   "id": "906fa51b-f848-426e-b761-caefe72bbb43",
   "metadata": {},
   "outputs": [
    {
     "name": "stdout",
     "output_type": "stream",
     "text": [
      "{1, 2, 4, 5}\n"
     ]
    }
   ],
   "source": [
    "print(A ^ B)  "
   ]
  },
  {
   "cell_type": "markdown",
   "id": "0f72bbba-7daa-4d3d-8c51-79467d3e6cd5",
   "metadata": {},
   "source": [
    "### Comparison Methods"
   ]
  },
  {
   "cell_type": "code",
   "execution_count": 80,
   "id": "b586a641-5d64-4be2-af1e-8989497eb18c",
   "metadata": {},
   "outputs": [],
   "source": [
    "# issubset() (<=) : Checks if all elements of A are in B.\n",
    "# print(A.issubset(B)) = print(A <= B)  \n",
    "A = {1, 2}\n",
    "B = {1, 2, 3}"
   ]
  },
  {
   "cell_type": "code",
   "execution_count": 83,
   "id": "7ffe307f-47d3-470b-9f04-8fc795f7251d",
   "metadata": {},
   "outputs": [
    {
     "name": "stdout",
     "output_type": "stream",
     "text": [
      "True\n"
     ]
    }
   ],
   "source": [
    "print(A.issubset(B))"
   ]
  },
  {
   "cell_type": "code",
   "execution_count": 84,
   "id": "0e80b92e-0c82-45bd-b8fd-1d377657f2f3",
   "metadata": {},
   "outputs": [
    {
     "name": "stdout",
     "output_type": "stream",
     "text": [
      "True\n"
     ]
    }
   ],
   "source": [
    "print(A <= B)  "
   ]
  },
  {
   "cell_type": "code",
   "execution_count": null,
   "id": "cf573f9f-b950-4f22-8550-7acf7deff2db",
   "metadata": {},
   "outputs": [],
   "source": [
    "# issuperset() (>=) : Checks if A contains all elements of B.\n",
    "# print(A.issuperset(B)) = print(A >= B)\n",
    "A = {1, 2, 3}\n",
    "B = {1, 2}"
   ]
  },
  {
   "cell_type": "code",
   "execution_count": 85,
   "id": "f3f34beb-262c-47c8-80af-4f4cc1262775",
   "metadata": {},
   "outputs": [
    {
     "name": "stdout",
     "output_type": "stream",
     "text": [
      "False\n"
     ]
    }
   ],
   "source": [
    "print(A.issuperset(B))"
   ]
  },
  {
   "cell_type": "code",
   "execution_count": 86,
   "id": "a223e9c4-5da4-43b3-b1f9-8b0c6541b5da",
   "metadata": {},
   "outputs": [
    {
     "name": "stdout",
     "output_type": "stream",
     "text": [
      "False\n"
     ]
    }
   ],
   "source": [
    "print(A >= B)"
   ]
  },
  {
   "cell_type": "code",
   "execution_count": 89,
   "id": "c146c7eb-c404-4d08-8d1a-e50a44926a52",
   "metadata": {},
   "outputs": [],
   "source": [
    "# isdisjoint() : Checks if two sets have no common elements.\n",
    "A = {1,2,3}\n",
    "B = {2,3, 4}"
   ]
  },
  {
   "cell_type": "code",
   "execution_count": 88,
   "id": "b2278b00-c043-4437-b035-7351a4de621d",
   "metadata": {},
   "outputs": [
    {
     "name": "stdout",
     "output_type": "stream",
     "text": [
      "True\n"
     ]
    }
   ],
   "source": [
    "print(A.isdisjoint(B))"
   ]
  },
  {
   "cell_type": "code",
   "execution_count": 90,
   "id": "64ffb56d-82ee-49ad-8f65-5f992a4ddbd7",
   "metadata": {},
   "outputs": [
    {
     "name": "stdout",
     "output_type": "stream",
     "text": [
      "False\n"
     ]
    }
   ],
   "source": [
    "print(A.isdisjoint(B))"
   ]
  },
  {
   "cell_type": "markdown",
   "id": "3db03cc0-605b-4824-990e-486f0919c3c6",
   "metadata": {},
   "source": [
    "### Copying a Set"
   ]
  },
  {
   "cell_type": "code",
   "execution_count": 91,
   "id": "4539044b-c711-4805-9b97-9e0b9bbbb213",
   "metadata": {},
   "outputs": [],
   "source": [
    "# copy() : Creates a shallow copy of the set.\n",
    "original = {1, 2, 3}"
   ]
  },
  {
   "cell_type": "code",
   "execution_count": 92,
   "id": "44e379b9-15f5-48e1-a6bc-a0f5d05c0db9",
   "metadata": {},
   "outputs": [
    {
     "name": "stdout",
     "output_type": "stream",
     "text": [
      "{1, 2, 3}\n"
     ]
    }
   ],
   "source": [
    "print(original)"
   ]
  },
  {
   "cell_type": "code",
   "execution_count": 93,
   "id": "c48193a3-21be-46b0-ba01-e6dfd70bef40",
   "metadata": {},
   "outputs": [],
   "source": [
    "duplicate = original.copy()"
   ]
  },
  {
   "cell_type": "code",
   "execution_count": 94,
   "id": "e2c18533-4b43-4556-9c88-2136ee5e31ae",
   "metadata": {},
   "outputs": [
    {
     "name": "stdout",
     "output_type": "stream",
     "text": [
      "{1, 2, 3}\n"
     ]
    }
   ],
   "source": [
    "print(duplicate)"
   ]
  },
  {
   "cell_type": "code",
   "execution_count": 95,
   "id": "97a4c858-23b9-484e-b2f2-216ae4437b65",
   "metadata": {},
   "outputs": [],
   "source": [
    "duplicate.add(4)"
   ]
  },
  {
   "cell_type": "code",
   "execution_count": 98,
   "id": "30764e94-7e7a-4081-b432-fa58e3330d89",
   "metadata": {},
   "outputs": [
    {
     "name": "stdout",
     "output_type": "stream",
     "text": [
      "{1, 2, 3}\n",
      "{1, 2, 3, 4}\n"
     ]
    }
   ],
   "source": [
    "print(original)\n",
    "print(duplicate)"
   ]
  },
  {
   "cell_type": "markdown",
   "id": "a93ce14d-8802-44fc-a884-7101da4fbd88",
   "metadata": {},
   "source": [
    "### Other Useful functions"
   ]
  },
  {
   "cell_type": "code",
   "execution_count": 99,
   "id": "b1e3b6b1-3dd2-4e0d-8b6c-55199e61de8a",
   "metadata": {},
   "outputs": [],
   "source": [
    "# len() : Returns the number of elements.\n",
    "numbers = {10, 20, 30}"
   ]
  },
  {
   "cell_type": "code",
   "execution_count": 100,
   "id": "876c42a7-bf65-4d34-be4d-6556f8c80e66",
   "metadata": {},
   "outputs": [
    {
     "name": "stdout",
     "output_type": "stream",
     "text": [
      "3\n"
     ]
    }
   ],
   "source": [
    "print(len(numbers))"
   ]
  },
  {
   "cell_type": "code",
   "execution_count": 101,
   "id": "62179665-6645-4c51-878b-414c9c19352b",
   "metadata": {},
   "outputs": [],
   "source": [
    "# in Operator : Checks if an element exists (faster than lists).\n",
    "fruits = {\"apple\", \"banana\"}"
   ]
  },
  {
   "cell_type": "code",
   "execution_count": 102,
   "id": "2d41de8f-d032-44b3-822f-40662b3587ff",
   "metadata": {},
   "outputs": [
    {
     "name": "stdout",
     "output_type": "stream",
     "text": [
      "True\n"
     ]
    }
   ],
   "source": [
    "print(\"apple\" in fruits)"
   ]
  },
  {
   "cell_type": "markdown",
   "id": "338a4cba-db63-4848-9238-bc33b24980a7",
   "metadata": {},
   "source": [
    "### Real-Time Important Set Topics for Python Developers\n",
    "- Sets are widely used in real-world Python applications for their efficiency in handling unique elements and performing fast lookups.\n",
    "- Below are the most important set operations that Python developers frequently use, along with practical examples."
   ]
  },
  {
   "cell_type": "markdown",
   "id": "00a5e8b6-4573-4580-bb62-d0435b2ddb6c",
   "metadata": {},
   "source": [
    "## 1. Removing Duplicates (Most Common Use Case)\n",
    "\n",
    "### Problem: Eliminate duplicate entries from a list.\n",
    "### Solution: Convert to a set and back to a list."
   ]
  },
  {
   "cell_type": "code",
   "execution_count": 103,
   "id": "626299a9-1c1b-4ee4-bef3-027a2cae902b",
   "metadata": {},
   "outputs": [],
   "source": [
    "data = [10, 20, 30, 20, 10, 40, 50]"
   ]
  },
  {
   "cell_type": "code",
   "execution_count": 104,
   "id": "6b6f29f5-0d72-4ed5-8bfe-d4cf339d2ab1",
   "metadata": {},
   "outputs": [
    {
     "name": "stdout",
     "output_type": "stream",
     "text": [
      "[10, 20, 30, 20, 10, 40, 50]\n"
     ]
    }
   ],
   "source": [
    "print(data)"
   ]
  },
  {
   "cell_type": "code",
   "execution_count": 105,
   "id": "e151c6fa-218e-4192-8ef5-b2f2e7bb6f39",
   "metadata": {},
   "outputs": [
    {
     "ename": "TypeError",
     "evalue": "'set' object is not callable",
     "output_type": "error",
     "traceback": [
      "\u001b[1;31m---------------------------------------------------------------------------\u001b[0m",
      "\u001b[1;31mTypeError\u001b[0m                                 Traceback (most recent call last)",
      "Cell \u001b[1;32mIn[105], line 1\u001b[0m\n\u001b[1;32m----> 1\u001b[0m unique_data \u001b[38;5;241m=\u001b[39m \u001b[38;5;28mlist\u001b[39m(\u001b[38;5;28mset\u001b[39m(data))\n",
      "\u001b[1;31mTypeError\u001b[0m: 'set' object is not callable"
     ]
    }
   ],
   "source": [
    "unique_data = list(set(data))"
   ]
  },
  {
   "cell_type": "markdown",
   "id": "ddacedd4-78ec-4793-9eec-c34d45636cb7",
   "metadata": {},
   "source": [
    "## 2. Finding Common Elements (Intersection)\n",
    "### Problem: Find shared items between two lists.\n",
    "### Solution: Use & or intersection()."
   ]
  },
  {
   "cell_type": "code",
   "execution_count": 106,
   "id": "51929337-0a0c-4a9a-ad1d-b1af121cc72c",
   "metadata": {},
   "outputs": [],
   "source": [
    "list1 = [1, 2, 3, 4, 5]\n",
    "list2 = [4, 5, 6, 7, 8]"
   ]
  },
  {
   "cell_type": "code",
   "execution_count": 107,
   "id": "2b20e857-7c4c-4859-9215-101be91f5242",
   "metadata": {},
   "outputs": [
    {
     "ename": "TypeError",
     "evalue": "'set' object is not callable",
     "output_type": "error",
     "traceback": [
      "\u001b[1;31m---------------------------------------------------------------------------\u001b[0m",
      "\u001b[1;31mTypeError\u001b[0m                                 Traceback (most recent call last)",
      "Cell \u001b[1;32mIn[107], line 1\u001b[0m\n\u001b[1;32m----> 1\u001b[0m common \u001b[38;5;241m=\u001b[39m \u001b[38;5;28mset\u001b[39m(list1) \u001b[38;5;241m&\u001b[39m \u001b[38;5;28mset\u001b[39m(list2)\n",
      "\u001b[1;31mTypeError\u001b[0m: 'set' object is not callable"
     ]
    }
   ],
   "source": [
    "common = set(list1) & set(list2)"
   ]
  },
  {
   "cell_type": "markdown",
   "id": "0a0884cb-c3fc-4be4-8d7c-000219512829",
   "metadata": {},
   "source": [
    "## 3. Finding Differences (Set Subtraction)\n",
    "### Problem: Get elements in one list but not in another.\n",
    "### Solution: Use - or difference()."
   ]
  },
  {
   "cell_type": "code",
   "execution_count": 108,
   "id": "a70eec7c-6584-46f7-b1c0-aa429ac8c289",
   "metadata": {},
   "outputs": [],
   "source": [
    "employees = {\"Alice\", \"Bob\", \"Charlie\"}\n",
    "attended = {\"Bob\", \"David\"}"
   ]
  },
  {
   "cell_type": "code",
   "execution_count": 109,
   "id": "ca515e39-9a91-42ef-b423-d029adf50c48",
   "metadata": {},
   "outputs": [],
   "source": [
    "absent = employees - attended"
   ]
  },
  {
   "cell_type": "code",
   "execution_count": 110,
   "id": "1db952ff-95d2-4b0b-a6bb-51ac29421ba3",
   "metadata": {},
   "outputs": [
    {
     "name": "stdout",
     "output_type": "stream",
     "text": [
      "{'Alice', 'Charlie'}\n"
     ]
    }
   ],
   "source": [
    "print(absent)"
   ]
  },
  {
   "cell_type": "markdown",
   "id": "daa431cc-a2b3-4766-a0ec-a594e906c2d5",
   "metadata": {},
   "source": [
    "## 4. Merging Sets (Union)\n",
    "### Problem: Combine two sets without duplicates.\n",
    "### Solution: Use | or union()."
   ]
  },
  {
   "cell_type": "code",
   "execution_count": 111,
   "id": "c83a1f38-fc1e-4897-9563-5e9ffaae494a",
   "metadata": {},
   "outputs": [],
   "source": [
    "set1 = {1, 2, 3}\n",
    "set2 = {3, 4, 5}"
   ]
  },
  {
   "cell_type": "code",
   "execution_count": 112,
   "id": "1b257e0d-aac4-4335-b905-9bfbd9319ce0",
   "metadata": {},
   "outputs": [],
   "source": [
    "merged = set1 | set2"
   ]
  },
  {
   "cell_type": "code",
   "execution_count": 113,
   "id": "74f1c64f-9e01-4206-bf29-4eb05e861de4",
   "metadata": {},
   "outputs": [
    {
     "name": "stdout",
     "output_type": "stream",
     "text": [
      "{1, 2, 3, 4, 5}\n"
     ]
    }
   ],
   "source": [
    "print(merged)"
   ]
  },
  {
   "cell_type": "markdown",
   "id": "e5a2b004-4a11-499a-a07a-6bcba5546eee",
   "metadata": {},
   "source": [
    "## 5. Checking Subsets (issubset)\n",
    "### Problem: Verify if all elements of one set exist in another.\n",
    "### Solution: Use issubset() or <=."
   ]
  },
  {
   "cell_type": "code",
   "execution_count": 114,
   "id": "6fdad9ce-bd65-4e7c-b05e-40388b16d7df",
   "metadata": {},
   "outputs": [],
   "source": [
    "required_skills = {\"Python\", \"SQL\", \"Git\"}\n",
    "candidate_skills = {\"Python\", \"SQL\"}"
   ]
  },
  {
   "cell_type": "code",
   "execution_count": 115,
   "id": "9b5f8cf2-c8cd-4bae-8cad-45e63c97d6c7",
   "metadata": {},
   "outputs": [
    {
     "name": "stdout",
     "output_type": "stream",
     "text": [
      "Candidate meets requirements!\n"
     ]
    }
   ],
   "source": [
    "if candidate_skills.issubset(required_skills):\n",
    "    print(\"Candidate meets requirements!\")\n",
    "else:\n",
    "    print(\"Rejected!\")"
   ]
  },
  {
   "cell_type": "markdown",
   "id": "a281764b-09a5-4558-b23a-b34d0a769f9e",
   "metadata": {},
   "source": [
    "## 6. Checking Disjoint Sets (No Common Elements)\n",
    "### Problem: Check if two sets have no overlap.\n",
    "### Solution: Use isdisjoint()."
   ]
  },
  {
   "cell_type": "code",
   "execution_count": 116,
   "id": "2eaf5bbc-c038-41c9-82dd-e8036e4a7058",
   "metadata": {},
   "outputs": [],
   "source": [
    "valid_users = {\"user1\", \"user2\", \"user3\"}\n",
    "blocked_users = {\"spammer1\", \"spammer2\"}"
   ]
  },
  {
   "cell_type": "code",
   "execution_count": 117,
   "id": "4894845f-eb6b-4824-972b-1405fc113b54",
   "metadata": {},
   "outputs": [
    {
     "name": "stdout",
     "output_type": "stream",
     "text": [
      "No blocked users in valid list!\n"
     ]
    }
   ],
   "source": [
    "if valid_users.isdisjoint(blocked_users):\n",
    "    print(\"No blocked users in valid list!\")\n",
    "else:\n",
    "    print(\"Security alert!\")"
   ]
  },
  {
   "cell_type": "markdown",
   "id": "00f0fc9b-f8aa-4faf-99fc-f2fd1b441a7c",
   "metadata": {},
   "source": [
    "## 7. Finding Unique Elements (Symmetric Difference)\n",
    "### Problem: Get elements present in only one of the two sets.\n",
    "### Solution: Use ^ or symmetric_difference()."
   ]
  },
  {
   "cell_type": "code",
   "execution_count": 118,
   "id": "fa7dd96b-1063-4b69-beab-a94b70f88b53",
   "metadata": {},
   "outputs": [],
   "source": [
    "morning_shift = {\"Alice\", \"Bob\", \"Charlie\"}\n",
    "evening_shift = {\"Bob\", \"David\", \"Eve\"}"
   ]
  },
  {
   "cell_type": "code",
   "execution_count": 119,
   "id": "29d0323a-7609-49e5-93ac-4c1467b02756",
   "metadata": {},
   "outputs": [],
   "source": [
    "unique_workers = morning_shift ^ evening_shift"
   ]
  },
  {
   "cell_type": "code",
   "execution_count": 120,
   "id": "eda9d478-e793-4f55-badf-8a2c68349793",
   "metadata": {},
   "outputs": [
    {
     "name": "stdout",
     "output_type": "stream",
     "text": [
      "{'Alice', 'David', 'Eve', 'Charlie'}\n"
     ]
    }
   ],
   "source": [
    "print(unique_workers)"
   ]
  },
  {
   "cell_type": "markdown",
   "id": "516041a5-d2bf-43d6-b96e-798fb28ba919",
   "metadata": {},
   "source": [
    "## 8. Fast Membership Testing (in Operator)\n",
    "### Problem: Check if an element exists in a large dataset efficiently.\n",
    "### Solution: Sets provide O(1) lookup time (faster than lists)."
   ]
  },
  {
   "cell_type": "code",
   "execution_count": null,
   "id": "8ccda461-990c-46b1-8b65-fffee5c0e25d",
   "metadata": {},
   "outputs": [],
   "source": [
    "usernames = {\"alice123\", \"bob456\", \"charlie789\"}\n",
    "username = input(\"Enter username: \")\n",
    "\n",
    "# Getting error need to check"
   ]
  },
  {
   "cell_type": "markdown",
   "id": "dc109f90-6ad4-4b34-a062-5468e934c82e",
   "metadata": {},
   "source": [
    "## 9. Updating a Set with Another Set\n",
    "### Problem: Add multiple elements from another set.\n",
    "### Solution: Use update()."
   ]
  },
  {
   "cell_type": "code",
   "execution_count": null,
   "id": "cde64ef4-bcfc-449e-9b4b-a215bc74418e",
   "metadata": {},
   "outputs": [],
   "source": [
    "available_items = {\"apple\", \"banana\", \"orange\"}\n",
    "new_items = {\"grape\", \"kiwi\", \"apple\"}"
   ]
  },
  {
   "cell_type": "code",
   "execution_count": null,
   "id": "3b3bc35b-7c2c-4415-87d8-b70e7a250b8a",
   "metadata": {},
   "outputs": [],
   "source": []
  }
 ],
 "metadata": {
  "kernelspec": {
   "display_name": "Python [conda env:base] *",
   "language": "python",
   "name": "conda-base-py"
  },
  "language_info": {
   "codemirror_mode": {
    "name": "ipython",
    "version": 3
   },
   "file_extension": ".py",
   "mimetype": "text/x-python",
   "name": "python",
   "nbconvert_exporter": "python",
   "pygments_lexer": "ipython3",
   "version": "3.13.5"
  }
 },
 "nbformat": 4,
 "nbformat_minor": 5
}
