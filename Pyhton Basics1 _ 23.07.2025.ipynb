{
 "cells": [
  {
   "cell_type": "markdown",
   "id": "e37af7ca-d197-4859-9e55-51327713bf1b",
   "metadata": {},
   "source": [
    "# Basics of Python\n",
    "### Various Data Types\n",
    "### Variable\n",
    "### Variables Assignment\n",
    "### Print Formatting"
   ]
  },
  {
   "cell_type": "markdown",
   "id": "fcac77c8-1c4a-40db-8685-a82bc6d59467",
   "metadata": {},
   "source": [
    "- Data Types"
   ]
  },
  {
   "cell_type": "code",
   "execution_count": 2,
   "id": "4641d3e9-3fb2-449d-af31-42964cba7526",
   "metadata": {},
   "outputs": [
    {
     "data": {
      "text/plain": [
       "int"
      ]
     },
     "execution_count": 2,
     "metadata": {},
     "output_type": "execute_result"
    }
   ],
   "source": [
    "type (1)"
   ]
  },
  {
   "cell_type": "code",
   "execution_count": 4,
   "id": "d737b089-8211-421d-98b1-f8ee9106b04f",
   "metadata": {},
   "outputs": [
    {
     "data": {
      "text/plain": [
       "float"
      ]
     },
     "execution_count": 4,
     "metadata": {},
     "output_type": "execute_result"
    }
   ],
   "source": [
    "type (2.3)"
   ]
  },
  {
   "cell_type": "code",
   "execution_count": 3,
   "id": "8749edee-0d7e-405f-bf62-fafec6442d44",
   "metadata": {},
   "outputs": [
    {
     "data": {
      "text/plain": [
       "str"
      ]
     },
     "execution_count": 3,
     "metadata": {},
     "output_type": "execute_result"
    }
   ],
   "source": [
    "type (\"Hello\")"
   ]
  },
  {
   "cell_type": "code",
   "execution_count": 5,
   "id": "f0d84870-4fbe-4da2-8464-8f04ee600f8d",
   "metadata": {},
   "outputs": [
    {
     "data": {
      "text/plain": [
       "bool"
      ]
     },
     "execution_count": 5,
     "metadata": {},
     "output_type": "execute_result"
    }
   ],
   "source": [
    "type (True)"
   ]
  },
  {
   "cell_type": "markdown",
   "id": "26a8832a-c407-4759-b4f7-488c4563ba38",
   "metadata": {},
   "source": [
    "- Strings"
   ]
  },
  {
   "cell_type": "code",
   "execution_count": null,
   "id": "07e9dd6e-c7e8-46e6-b8c4-aefdd3bffd99",
   "metadata": {},
   "outputs": [],
   "source": [
    "# What is a str?\n",
    "# Represents text (enclosed in \" \" or ' ').\n",
    "# Can contain letters, numbers, symbols, and spaces."
   ]
  },
  {
   "cell_type": "code",
   "execution_count": null,
   "id": "dfc3653e-0fc7-4611-8cec-1320da595be2",
   "metadata": {},
   "outputs": [],
   "source": [
    "## Examples of Str\n",
    "# name = \"Alice\"          \n",
    "# greeting = 'Hello, World!'  \n",
    "# address = \"123 Main St\"  # Numbers inside quotes = string"
   ]
  },
  {
   "cell_type": "code",
   "execution_count": 1,
   "id": "4444c986-9dab-4466-a5fb-02a4775abd9c",
   "metadata": {},
   "outputs": [],
   "source": [
    "Name = 'Mokshith' # Single quote"
   ]
  },
  {
   "cell_type": "code",
   "execution_count": 2,
   "id": "d2ded8d8-b1cb-426f-841c-85ac5883d253",
   "metadata": {},
   "outputs": [
    {
     "name": "stdout",
     "output_type": "stream",
     "text": [
      "Mokshith\n"
     ]
    }
   ],
   "source": [
    "print(Name)"
   ]
  },
  {
   "cell_type": "code",
   "execution_count": 3,
   "id": "8c22821a-d5cf-43ce-aa86-845ff489bd2d",
   "metadata": {},
   "outputs": [],
   "source": [
    "Greeting=\"Welcome to the World\" # Double quote"
   ]
  },
  {
   "cell_type": "code",
   "execution_count": 4,
   "id": "04e7e5bd-70f7-4892-a52e-3a36ea9d7380",
   "metadata": {},
   "outputs": [
    {
     "name": "stdout",
     "output_type": "stream",
     "text": [
      "Welcome to the World\n"
     ]
    }
   ],
   "source": [
    "print(Greeting)"
   ]
  },
  {
   "cell_type": "code",
   "execution_count": 5,
   "id": "9500fafb-7d85-4550-a316-ebe57e926edb",
   "metadata": {},
   "outputs": [],
   "source": [
    "Message = ''' Welcome \n",
    "To The \n",
    "World!''' # Multi-line quote"
   ]
  },
  {
   "cell_type": "code",
   "execution_count": 6,
   "id": "97a02fdf-50cc-4e5b-90ac-123ee51eeec5",
   "metadata": {},
   "outputs": [
    {
     "name": "stdout",
     "output_type": "stream",
     "text": [
      " Welcome \n",
      "To The \n",
      "World!\n"
     ]
    }
   ],
   "source": [
    "print(Message)"
   ]
  },
  {
   "cell_type": "code",
   "execution_count": 7,
   "id": "f069e14f-ef23-454b-aa98-0b6512dab8ba",
   "metadata": {},
   "outputs": [],
   "source": [
    "# Basic String Creation\n",
    "Name = 'Mokshith' # Single quote\n",
    "Greeting=\"Welcome to the World\" # Double quote\n",
    "Message = ''' Welcome \n",
    "To The \n",
    "World!''' # Multi-line quote"
   ]
  },
  {
   "cell_type": "code",
   "execution_count": 8,
   "id": "eef8fc5d-db0c-4b3a-bf21-69e3f9c2c15e",
   "metadata": {},
   "outputs": [
    {
     "name": "stdout",
     "output_type": "stream",
     "text": [
      "Mokshith\n",
      "Welcome to the World\n",
      " Welcome \n",
      "To The \n",
      "World!\n"
     ]
    }
   ],
   "source": [
    "print(Name)\n",
    "print(Greeting)\n",
    "print(Message)\n"
   ]
  },
  {
   "cell_type": "markdown",
   "id": "1da9daeb-83f4-4623-aadc-1c161c80a8f0",
   "metadata": {},
   "source": [
    "## Variable Assignment"
   ]
  },
  {
   "cell_type": "code",
   "execution_count": null,
   "id": "4494b524-7003-4662-9c59-96adf6db0c9b",
   "metadata": {},
   "outputs": [],
   "source": [
    "# Variable : A variable is like a box where you store data (numbers, text, etc.) and give it a name.\n",
    "# Syntax\n",
    "# Var_name = Values\n",
    "# Rules for Naming Variables\n",
    "  # 1.Start with a letter (a-z, A-Z) or _\n",
    "  #✅ name, _age, User1\n",
    "  # ❌ 1user, @email\n",
    "\n",
    "  # 2. Can contain letters, numbers, or _\n",
    "  #✅ user_name, score2\n",
    "  #❌ user-name, first name\n",
    "\n",
    "  #3. Cannot use Python keywords (like if, for, class)\n",
    "  #❌ for = 5 (Error!) \n",
    "\n",
    "  #4. Case-sensitive (different from Age, age, AGE) \n",
    "\n",
    "  #5. Use meaningful names\n",
    "  #✅ student_age (Good)\n",
    "  #❌ x (Bad) \n",
    "\n",
    "  #6. Follow naming styles\n",
    "  #snake_case (Python style): user_name\n",
    "  #camelCase: userName\n",
    "  #PascalCase (for classes): UserName"
   ]
  },
  {
   "cell_type": "code",
   "execution_count": 9,
   "id": "13fb1efa-289b-474e-9a28-f33d4d4cda3a",
   "metadata": {},
   "outputs": [],
   "source": [
    "Employee_Name = \"Phanindra\""
   ]
  },
  {
   "cell_type": "code",
   "execution_count": 10,
   "id": "358f3436-6f7f-41dd-9ad3-3068fd3c1ae3",
   "metadata": {},
   "outputs": [
    {
     "name": "stdout",
     "output_type": "stream",
     "text": [
      "Phanindra\n"
     ]
    }
   ],
   "source": [
    "print(Employee_Name)"
   ]
  },
  {
   "cell_type": "code",
   "execution_count": 11,
   "id": "179ce661-c075-40fc-b7a2-79fc9ca502bf",
   "metadata": {},
   "outputs": [
    {
     "data": {
      "text/plain": [
       "str"
      ]
     },
     "execution_count": 11,
     "metadata": {},
     "output_type": "execute_result"
    }
   ],
   "source": [
    "type(Employee_Name)"
   ]
  },
  {
   "cell_type": "code",
   "execution_count": 14,
   "id": "7e2c81ea-d5bd-4b57-bf34-26d98ceb87f0",
   "metadata": {},
   "outputs": [],
   "source": [
    "Age = 33"
   ]
  },
  {
   "cell_type": "code",
   "execution_count": 15,
   "id": "ac277ff9-8732-488f-80a3-1da7f1885f3a",
   "metadata": {},
   "outputs": [
    {
     "name": "stdout",
     "output_type": "stream",
     "text": [
      "33\n"
     ]
    }
   ],
   "source": [
    "print(Age)"
   ]
  },
  {
   "cell_type": "code",
   "execution_count": 16,
   "id": "adfa9737-1561-4c77-9f00-f5953f1e4d73",
   "metadata": {},
   "outputs": [
    {
     "data": {
      "text/plain": [
       "int"
      ]
     },
     "execution_count": 16,
     "metadata": {},
     "output_type": "execute_result"
    }
   ],
   "source": [
    "type(Age)"
   ]
  },
  {
   "cell_type": "code",
   "execution_count": 18,
   "id": "2c5ff6eb-dc90-417a-bd33-2095f68b83a2",
   "metadata": {},
   "outputs": [],
   "source": [
    "Height = 183.5"
   ]
  },
  {
   "cell_type": "code",
   "execution_count": 19,
   "id": "f82eb3d1-f87f-4a5d-9d2b-605e35e4f531",
   "metadata": {},
   "outputs": [
    {
     "name": "stdout",
     "output_type": "stream",
     "text": [
      "183.5\n"
     ]
    }
   ],
   "source": [
    "print(Height)"
   ]
  },
  {
   "cell_type": "code",
   "execution_count": 20,
   "id": "fb0c2416-ed13-40e5-9033-b0627a60616f",
   "metadata": {},
   "outputs": [
    {
     "data": {
      "text/plain": [
       "float"
      ]
     },
     "execution_count": 20,
     "metadata": {},
     "output_type": "execute_result"
    }
   ],
   "source": [
    "type(Height)"
   ]
  },
  {
   "cell_type": "code",
   "execution_count": 4,
   "id": "eafd040e-c04a-4b33-81dd-08f86e2a94c3",
   "metadata": {},
   "outputs": [],
   "source": [
    "#INT\n",
    "#What?- Whole numbers without decimal points.\n",
    "#Why?-For counting, indexing, and mathematical operations.\n",
    "#Where?-Anywhere you need whole numbers (ages, counts, etc.).\n",
    "#When?-When decimal precision isn't needed.\n",
    "\n",
    "#How\n",
    "#Examples of Int:\n",
    "# age = 25           # Positive integer\n",
    "# temperature = -10   # Negative integer\n",
    "# count = 0           # Zero"
   ]
  },
  {
   "cell_type": "code",
   "execution_count": 21,
   "id": "663f5d1c-5f43-41d0-ac57-f9d113217f9d",
   "metadata": {},
   "outputs": [],
   "source": [
    "# Mathematical Opertions with Variable Assignment\n",
    "a = 10\n",
    "b = 3"
   ]
  },
  {
   "cell_type": "code",
   "execution_count": 22,
   "id": "d1361140-f4cd-471e-a498-e79c0bc616b3",
   "metadata": {},
   "outputs": [
    {
     "name": "stdout",
     "output_type": "stream",
     "text": [
      "13\n",
      "7\n",
      "30\n",
      "3.3333333333333335\n",
      "3\n",
      "1\n",
      "1000\n",
      "2.3076923076923075\n"
     ]
    }
   ],
   "source": [
    "print (a+b) # Addition        --> 13\n",
    "print (a-b) # SUbtraction     --> 7\n",
    "print (a*b) # Multiplication  -->30\n",
    "print (a/b) # Division        -->3.333333333 (return FLoat)\n",
    "print (a//b)# Floor Division  -->3           (drops decimal)\n",
    "print (a%b) # Modulus         -->1           \n",
    "print (a**b)# Exponentiation  -->1000         (10^3)  \n",
    "print((a*b)/(a+b))##BODMAS (Brackets,Order,Division,Multiplication,Subtraction)\n"
   ]
  },
  {
   "cell_type": "markdown",
   "id": "e44b42f7-ec76-4a4a-b7ef-13b018c57121",
   "metadata": {},
   "source": [
    "## Various Types of Printing"
   ]
  },
  {
   "cell_type": "code",
   "execution_count": 27,
   "id": "1284fc03-172d-4753-8a27-adde5046510c",
   "metadata": {},
   "outputs": [
    {
     "name": "stdout",
     "output_type": "stream",
     "text": [
      "Hello\n"
     ]
    }
   ],
   "source": [
    "print('''Hello''')"
   ]
  },
  {
   "cell_type": "code",
   "execution_count": 29,
   "id": "a7f2c176-4e64-4e16-95b2-ea991c606151",
   "metadata": {},
   "outputs": [],
   "source": [
    "First_Name = 'Phanindra'\n",
    "Last_Name  = 'Kumar'"
   ]
  },
  {
   "cell_type": "code",
   "execution_count": 30,
   "id": "9b9f3874-1d14-4023-8ae2-c3ed6faf810c",
   "metadata": {},
   "outputs": [
    {
     "name": "stdout",
     "output_type": "stream",
     "text": [
      "My First Name is Phanindra and Last Name is Kumar\n"
     ]
    }
   ],
   "source": [
    "# Based in the .format order it will print accordingly\n",
    "print(\"My First Name is {} and Last Name is {}\".format(First_Name,Last_Name))"
   ]
  },
  {
   "cell_type": "code",
   "execution_count": 31,
   "id": "c6ab9dcf-c066-42c4-84a2-705e444dd6ad",
   "metadata": {},
   "outputs": [
    {
     "name": "stdout",
     "output_type": "stream",
     "text": [
      "My First Name is Kumar and Last Name is Phanindra\n"
     ]
    }
   ],
   "source": [
    "## Based in the .format order it will print accordingly\n",
    "print(\"My First Name is {} and Last Name is {}\".format(Last_Name,First_Name))"
   ]
  },
  {
   "cell_type": "code",
   "execution_count": 32,
   "id": "bc5b3f48-f02a-4f7b-b263-53044b98a61c",
   "metadata": {},
   "outputs": [
    {
     "name": "stdout",
     "output_type": "stream",
     "text": [
      "My First Name is Phanindra and Last Name is Kumar\n"
     ]
    }
   ],
   "source": [
    "# Based in the .format order it will print accordingly\n",
    "print(\"My First Name is {First} and Last Name is {Last}\".format(First=First_Name,Last=Last_Name))"
   ]
  },
  {
   "cell_type": "code",
   "execution_count": 34,
   "id": "f88e1e99-82aa-49ea-8588-eec05436a271",
   "metadata": {},
   "outputs": [
    {
     "name": "stdout",
     "output_type": "stream",
     "text": [
      "My First Name is Phanindra and Last Name is Kumar\n"
     ]
    }
   ],
   "source": [
    "# Eventhough we chnage the order in .format it should print asusual. because we gave First and Last in FLower Brackets\n",
    "print(\"My First Name is {First} and Last Name is {Last}\".format(Last=Last_Name,First=First_Name))"
   ]
  },
  {
   "cell_type": "code",
   "execution_count": 33,
   "id": "1bb8c49e-5295-4d11-a803-2d56b7e52d17",
   "metadata": {},
   "outputs": [
    {
     "name": "stdout",
     "output_type": "stream",
     "text": [
      "My First Name is Kumar and Last Name is Phanindra\n"
     ]
    }
   ],
   "source": [
    "# Eventhough we chnage the order in .format it should print asusual. because we gave First and Last in FLower Brackets\n",
    "print(\"My First Name is {Last} and Last Name is {First}\".format(First=First_Name,Last=Last_Name))"
   ]
  },
  {
   "cell_type": "code",
   "execution_count": null,
   "id": "cb60b6eb-9c8b-4cec-940b-3786b98d53e9",
   "metadata": {},
   "outputs": [],
   "source": []
  }
 ],
 "metadata": {
  "kernelspec": {
   "display_name": "Python [conda env:base] *",
   "language": "python",
   "name": "conda-base-py"
  },
  "language_info": {
   "codemirror_mode": {
    "name": "ipython",
    "version": 3
   },
   "file_extension": ".py",
   "mimetype": "text/x-python",
   "name": "python",
   "nbconvert_exporter": "python",
   "pygments_lexer": "ipython3",
   "version": "3.13.5"
  }
 },
 "nbformat": 4,
 "nbformat_minor": 5
}
