{
 "cells": [
  {
   "cell_type": "markdown",
   "id": "193c2c94-fc67-403d-87a3-394567acc242",
   "metadata": {},
   "source": [
    "## What is an Array?\n",
    "\n",
    "- An array is a data structure that stores a collection of elements (values or variables) of the same type in contiguous memory locations.\n",
    "-  In Python, we typically use lists for similar functionality, but for numerical operations, we often use the array module or NumPy's ndarray.\n",
    "\n",
    "## Why We Use Arrays\n",
    "\n",
    "- Efficient storage: Arrays store elements compactly in memory\n",
    "- Fast access: We can quickly access any element using its index\n",
    "- Easy iteration: Simple to loop through all elements\n",
    "- Mathematical operations: Great for numerical computations\n",
    "- Ordered collection: Maintains the order of elements\n",
    "\n",
    "## Where We Use Arrays\n",
    "\n",
    "- Storing large amounts of similar data\n",
    "- Mathematical computations (especially with NumPy)\n",
    "- Image processing (images are arrays of pixels)\n",
    "- Game development (storing game states, positions)\n",
    "- Machine learning (datasets are often arrays)\n",
    "\n",
    "## When We Use Arrays\n",
    "\n",
    "- When you need to store many items of the same type\n",
    "- When you need fast access to elements by position\n",
    "- When you need to perform mathematical operations on the data\n",
    "- When memory efficiency is important"
   ]
  },
  {
   "cell_type": "code",
   "execution_count": null,
   "id": "ba60e6c3-0f61-4006-ba4a-e86fef5d87a0",
   "metadata": {},
   "outputs": [],
   "source": [
    "import numpy as np"
   ]
  },
  {
   "cell_type": "code",
   "execution_count": null,
   "id": "0be5e581-1e10-482b-91aa-7f5bc0a2a148",
   "metadata": {},
   "outputs": [],
   "source": [
    "my_lst = [1,2,3,4,5]\n",
    "arr=np.array(my_lst)"
   ]
  },
  {
   "cell_type": "code",
   "execution_count": null,
   "id": "9dbda0cf-13a7-4993-9403-cf247dd88cce",
   "metadata": {},
   "outputs": [],
   "source": [
    "type(arr)"
   ]
  },
  {
   "cell_type": "code",
   "execution_count": null,
   "id": "6ead0050-efbe-47a8-ad3e-6c3ea20082d1",
   "metadata": {},
   "outputs": [],
   "source": [
    "print(arr)"
   ]
  },
  {
   "cell_type": "code",
   "execution_count": null,
   "id": "ed3e2d83-8486-4d76-b77f-690a53aa3a67",
   "metadata": {},
   "outputs": [],
   "source": [
    "arr.shape"
   ]
  },
  {
   "cell_type": "code",
   "execution_count": null,
   "id": "1e270805-fc33-4a2e-9454-a1f4565ac0eb",
   "metadata": {},
   "outputs": [],
   "source": [
    "arr"
   ]
  },
  {
   "cell_type": "code",
   "execution_count": 20,
   "id": "3ec496d2-3a1c-4d86-9228-5d6fa2562314",
   "metadata": {},
   "outputs": [],
   "source": [
    "# multinested array\n",
    "my_lst1 = [1,2,3,4,5]\n",
    "my_lst2 = [2,3,4,5,6]\n",
    "my_lst3 = [9,7,6,8,9]\n",
    "\n",
    "arr=np.array([my_lst1,my_lst2,my_lst3])\n",
    "# Single dimension array will open and close with single Bracket.\n",
    "# Two dimenson arrat will open and close with 2 Brackets.\n",
    "# Three dimenson arrat will open and close with 3 Brackets."
   ]
  },
  {
   "cell_type": "code",
   "execution_count": 14,
   "id": "09f75c8f-8095-41f1-9036-f203039c8938",
   "metadata": {},
   "outputs": [
    {
     "data": {
      "text/plain": [
       "array([[1, 2, 3, 4, 5],\n",
       "       [2, 3, 4, 5, 6],\n",
       "       [9, 7, 6, 8, 9]])"
      ]
     },
     "execution_count": 14,
     "metadata": {},
     "output_type": "execute_result"
    }
   ],
   "source": [
    "arr"
   ]
  },
  {
   "cell_type": "code",
   "execution_count": 15,
   "id": "0512e98f-a034-436b-b44f-5ecf017a4a2f",
   "metadata": {},
   "outputs": [
    {
     "data": {
      "text/plain": [
       "(3, 5)"
      ]
     },
     "execution_count": 15,
     "metadata": {},
     "output_type": "execute_result"
    }
   ],
   "source": [
    "arr.shape"
   ]
  },
  {
   "cell_type": "code",
   "execution_count": 16,
   "id": "abbe6f08-c03b-471e-b9b8-25f940c8021f",
   "metadata": {},
   "outputs": [
    {
     "data": {
      "text/plain": [
       "array([[1, 2, 3],\n",
       "       [4, 5, 2],\n",
       "       [3, 4, 5],\n",
       "       [6, 9, 7],\n",
       "       [6, 8, 9]])"
      ]
     },
     "execution_count": 16,
     "metadata": {},
     "output_type": "execute_result"
    }
   ],
   "source": [
    "arr.reshape(5,3) # when we are using reshape should keep note that the elements on shape should fix with reshape"
   ]
  },
  {
   "cell_type": "code",
   "execution_count": 17,
   "id": "3fb69e12-37cd-4f45-80c7-6547939d8fc4",
   "metadata": {},
   "outputs": [
    {
     "ename": "ValueError",
     "evalue": "cannot reshape array of size 15 into shape (5,4)",
     "output_type": "error",
     "traceback": [
      "\u001b[1;31m---------------------------------------------------------------------------\u001b[0m",
      "\u001b[1;31mValueError\u001b[0m                                Traceback (most recent call last)",
      "Cell \u001b[1;32mIn[17], line 1\u001b[0m\n\u001b[1;32m----> 1\u001b[0m arr\u001b[38;5;241m.\u001b[39mreshape(\u001b[38;5;241m5\u001b[39m,\u001b[38;5;241m4\u001b[39m)\n",
      "\u001b[1;31mValueError\u001b[0m: cannot reshape array of size 15 into shape (5,4)"
     ]
    }
   ],
   "source": [
    "arr.reshape(5,4) # cannot reshape array of size 15 into shape (5,4)"
   ]
  },
  {
   "cell_type": "markdown",
   "id": "49e136cf-8697-43c9-b8b5-e6279815af9d",
   "metadata": {},
   "source": [
    "### Indexing"
   ]
  },
  {
   "cell_type": "code",
   "execution_count": 18,
   "id": "6b05565b-85ea-4ab4-a2eb-3939af802c14",
   "metadata": {},
   "outputs": [],
   "source": [
    "# Accessing the array element\n",
    "arr = np.array([1,2,3,4,5,6,7,8,9])"
   ]
  },
  {
   "cell_type": "code",
   "execution_count": 19,
   "id": "401f99fa-6c6b-4279-8b52-bcd6fcd1f46d",
   "metadata": {},
   "outputs": [
    {
     "data": {
      "text/plain": [
       "np.int64(4)"
      ]
     },
     "execution_count": 19,
     "metadata": {},
     "output_type": "execute_result"
    }
   ],
   "source": [
    "arr[3]"
   ]
  },
  {
   "cell_type": "code",
   "execution_count": 21,
   "id": "5000a95e-0a93-46a6-bddc-654259f08c5c",
   "metadata": {},
   "outputs": [
    {
     "data": {
      "text/plain": [
       "array([[1, 2, 3, 4, 5],\n",
       "       [2, 3, 4, 5, 6],\n",
       "       [9, 7, 6, 8, 9]])"
      ]
     },
     "execution_count": 21,
     "metadata": {},
     "output_type": "execute_result"
    }
   ],
   "source": [
    "arr"
   ]
  },
  {
   "cell_type": "code",
   "execution_count": null,
   "id": "0d13a170-849a-4350-9b84-26e7e26f3ce3",
   "metadata": {},
   "outputs": [],
   "source": [
    "# Indexing in 2 dimension \n",
    "#(Row Indexing[each row will be consider as one index. e.g we have 3 rows in array so[0,1,2] is row index],\n",
    "#(Column Indexing [] usual way each column is one index. e.g we have 5 columns in each row so[0,1,2,3,4] is column index)\n"
   ]
  },
  {
   "cell_type": "code",
   "execution_count": 22,
   "id": "02960b57-14c9-425b-8f3a-d2a24358c463",
   "metadata": {},
   "outputs": [
    {
     "data": {
      "text/plain": [
       "array([[1, 2, 3, 4, 5],\n",
       "       [2, 3, 4, 5, 6],\n",
       "       [9, 7, 6, 8, 9]])"
      ]
     },
     "execution_count": 22,
     "metadata": {},
     "output_type": "execute_result"
    }
   ],
   "source": [
    "# To Retrieve all columns.\n",
    "arr[:,:]"
   ]
  },
  {
   "cell_type": "code",
   "execution_count": 23,
   "id": "d8931209-cfe1-4c3b-b88b-b05fe9497909",
   "metadata": {},
   "outputs": [
    {
     "data": {
      "text/plain": [
       "array([[1, 2, 3, 4, 5],\n",
       "       [2, 3, 4, 5, 6]])"
      ]
     },
     "execution_count": 23,
     "metadata": {},
     "output_type": "execute_result"
    }
   ],
   "source": [
    "# To retrieve only first 2 rows\n",
    "arr[0:2,:]"
   ]
  },
  {
   "cell_type": "code",
   "execution_count": 24,
   "id": "dd3841e8-3927-4743-8a87-d736a581aeb4",
   "metadata": {},
   "outputs": [
    {
     "data": {
      "text/plain": [
       "array([[1, 2],\n",
       "       [2, 3]])"
      ]
     },
     "execution_count": 24,
     "metadata": {},
     "output_type": "execute_result"
    }
   ],
   "source": [
    "# To retrieve first 2 rows and first 2 columns\n",
    "arr[0:2,0:2]"
   ]
  },
  {
   "cell_type": "code",
   "execution_count": 25,
   "id": "4a8f830c-1b85-4d9a-9d39-67dcafe0ea55",
   "metadata": {},
   "outputs": [],
   "source": [
    "# Inbuilt function arange\n",
    "arr=np.arange(0,10)"
   ]
  },
  {
   "cell_type": "code",
   "execution_count": 26,
   "id": "697962e8-b108-4b6b-b0b2-591d1d35a653",
   "metadata": {},
   "outputs": [
    {
     "data": {
      "text/plain": [
       "array([0, 1, 2, 3, 4, 5, 6, 7, 8, 9])"
      ]
     },
     "execution_count": 26,
     "metadata": {},
     "output_type": "execute_result"
    }
   ],
   "source": [
    "arr"
   ]
  },
  {
   "cell_type": "code",
   "execution_count": 27,
   "id": "911ba75b-d619-4b72-ae52-3297438f9bad",
   "metadata": {},
   "outputs": [],
   "source": [
    "arr=np.arange(0,10,step=2)"
   ]
  },
  {
   "cell_type": "code",
   "execution_count": 28,
   "id": "264ad2fc-dda0-4933-8961-9f71b7399e50",
   "metadata": {},
   "outputs": [
    {
     "data": {
      "text/plain": [
       "array([0, 2, 4, 6, 8])"
      ]
     },
     "execution_count": 28,
     "metadata": {},
     "output_type": "execute_result"
    }
   ],
   "source": [
    "arr"
   ]
  },
  {
   "cell_type": "code",
   "execution_count": 29,
   "id": "d193e0c5-9e60-47b3-9fd9-f28f8852c5bd",
   "metadata": {},
   "outputs": [
    {
     "data": {
      "text/plain": [
       "array([ 1.        ,  1.18367347,  1.36734694,  1.55102041,  1.73469388,\n",
       "        1.91836735,  2.10204082,  2.28571429,  2.46938776,  2.65306122,\n",
       "        2.83673469,  3.02040816,  3.20408163,  3.3877551 ,  3.57142857,\n",
       "        3.75510204,  3.93877551,  4.12244898,  4.30612245,  4.48979592,\n",
       "        4.67346939,  4.85714286,  5.04081633,  5.2244898 ,  5.40816327,\n",
       "        5.59183673,  5.7755102 ,  5.95918367,  6.14285714,  6.32653061,\n",
       "        6.51020408,  6.69387755,  6.87755102,  7.06122449,  7.24489796,\n",
       "        7.42857143,  7.6122449 ,  7.79591837,  7.97959184,  8.16326531,\n",
       "        8.34693878,  8.53061224,  8.71428571,  8.89795918,  9.08163265,\n",
       "        9.26530612,  9.44897959,  9.63265306,  9.81632653, 10.        ])"
      ]
     },
     "execution_count": 29,
     "metadata": {},
     "output_type": "execute_result"
    }
   ],
   "source": [
    "np.linspace(1,10,50) # mostly we use in Deep Learning"
   ]
  },
  {
   "cell_type": "code",
   "execution_count": 32,
   "id": "4f77fc0c-dd8d-4f2d-be7f-9f8404f1f49b",
   "metadata": {},
   "outputs": [],
   "source": [
    "# Copy (creating an array to perform copy function)\n",
    "arr = np.array([1,2,3,4,5,6,7,8,9])"
   ]
  },
  {
   "cell_type": "code",
   "execution_count": 35,
   "id": "6db9d4d0-daa7-434f-8fd8-183b185e1379",
   "metadata": {},
   "outputs": [],
   "source": [
    "# Copy () function and broadcasting\n",
    "arr[3:] = 100 # if we want to print 100 from the 3rd index"
   ]
  },
  {
   "cell_type": "code",
   "execution_count": 36,
   "id": "91322d45-a1df-403b-b196-63540ae17f57",
   "metadata": {},
   "outputs": [
    {
     "data": {
      "text/plain": [
       "array([  1,   2,   3, 100, 100, 100, 100, 100, 100])"
      ]
     },
     "execution_count": 36,
     "metadata": {},
     "output_type": "execute_result"
    }
   ],
   "source": [
    "arr"
   ]
  },
  {
   "cell_type": "code",
   "execution_count": 37,
   "id": "1be98971-14e6-4ed1-908b-060ca96ff1b0",
   "metadata": {},
   "outputs": [],
   "source": [
    "arr1=arr"
   ]
  },
  {
   "cell_type": "code",
   "execution_count": 38,
   "id": "953bf459-f671-48bb-91c6-536f18d420fa",
   "metadata": {},
   "outputs": [
    {
     "name": "stdout",
     "output_type": "stream",
     "text": [
      "[  1   2   3 500 500 500 500 500 500]\n"
     ]
    }
   ],
   "source": [
    "arr1[3:] = 500 # if we want to print 500 from the 3rd index\n",
    "print(arr)"
   ]
  },
  {
   "cell_type": "code",
   "execution_count": 39,
   "id": "8464b420-783f-4d8d-85e6-a69e8aede1e8",
   "metadata": {},
   "outputs": [
    {
     "data": {
      "text/plain": [
       "array([  1,   2,   3, 500, 500, 500, 500, 500, 500])"
      ]
     },
     "execution_count": 39,
     "metadata": {},
     "output_type": "execute_result"
    }
   ],
   "source": [
    "arr"
   ]
  },
  {
   "cell_type": "code",
   "execution_count": 40,
   "id": "b230a352-f299-42cc-91aa-6c7048333eed",
   "metadata": {},
   "outputs": [],
   "source": [
    "# reference : when we updated arr1, automatically arr updated with those values.\n",
    "# To avoid that we use copy command.\n",
    "arr1 = arr.copy()"
   ]
  },
  {
   "cell_type": "code",
   "execution_count": 41,
   "id": "6f72e5f7-6122-40fc-b1d3-0f2b99e0898d",
   "metadata": {},
   "outputs": [
    {
     "name": "stdout",
     "output_type": "stream",
     "text": [
      "[  1   2   3 500 500 500 500 500 500]\n",
      "[   1    2    3 1000 1000 1000 1000 1000 1000]\n"
     ]
    }
   ],
   "source": [
    "print(arr)\n",
    "arr1[3:]=1000\n",
    "print(arr1)"
   ]
  },
  {
   "cell_type": "code",
   "execution_count": 42,
   "id": "89e46573-d5d7-4d52-a315-6812e9389205",
   "metadata": {},
   "outputs": [
    {
     "data": {
      "text/plain": [
       "array([ True, False, False, False, False, False, False, False, False])"
      ]
     },
     "execution_count": 42,
     "metadata": {},
     "output_type": "execute_result"
    }
   ],
   "source": [
    "# Some Conditions very useful in Explaratory Data Analysis\n",
    "\n",
    "val= 2 # Here I am creating a variable \n",
    "# we can perform various calculations like multiply, Division, Modulus with variable (e.g: arr*2, arr/2, arr%2,arr<2,arr>2)\n",
    "arr<2  # It will check with each of the element in arr and provide result. In our example only 1 is <2, remaining are not matching."
   ]
  },
  {
   "cell_type": "code",
   "execution_count": 43,
   "id": "97e17dcc-b669-49e5-b91e-e5c4e38a8509",
   "metadata": {},
   "outputs": [
    {
     "data": {
      "text/plain": [
       "array([1])"
      ]
     },
     "execution_count": 43,
     "metadata": {},
     "output_type": "execute_result"
    }
   ],
   "source": [
    "# In the above example we are getting true or false . \n",
    "# If we want to get the exact values which are lessthan 2 use follow\n",
    "arr[arr<2]"
   ]
  },
  {
   "cell_type": "code",
   "execution_count": 44,
   "id": "df37e455-956b-432f-b629-045dd7ee8ad3",
   "metadata": {},
   "outputs": [
    {
     "data": {
      "text/plain": [
       "array([1, 2, 3])"
      ]
     },
     "execution_count": 44,
     "metadata": {},
     "output_type": "execute_result"
    }
   ],
   "source": [
    "# If we want to get the exact values which are lessthan 300 use follow\n",
    "arr[arr<300]"
   ]
  },
  {
   "cell_type": "code",
   "execution_count": null,
   "id": "da7c4353-ef52-409e-a6bb-95e45c4773ab",
   "metadata": {},
   "outputs": [],
   "source": [
    "# need to check from 20th minute to last in 4th class\n",
    "# np.ones(1,dtype= int)\n",
    "# np.random.rand(3,3)  () Values will change randomly after each execution\n",
    "# arr_ex=np.random.randn(4,4) () Values will change randomly after each execution"
   ]
  }
 ],
 "metadata": {
  "kernelspec": {
   "display_name": "Python [conda env:base] *",
   "language": "python",
   "name": "conda-base-py"
  },
  "language_info": {
   "codemirror_mode": {
    "name": "ipython",
    "version": 3
   },
   "file_extension": ".py",
   "mimetype": "text/x-python",
   "name": "python",
   "nbconvert_exporter": "python",
   "pygments_lexer": "ipython3",
   "version": "3.13.5"
  }
 },
 "nbformat": 4,
 "nbformat_minor": 5
}
