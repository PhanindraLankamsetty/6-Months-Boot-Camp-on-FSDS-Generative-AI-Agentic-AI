{
 "cells": [
  {
   "cell_type": "markdown",
   "id": "291bee3a-a095-47c6-9c41-ebeb69fae843",
   "metadata": {},
   "source": [
    "# Python Data STructures and Boolean\n",
    "  - Boolean\n",
    "  - Boolean and Logic Operators\n",
    "  - Lists\n",
    "  - Comparison Operators\n",
    "  - Dictionaries\n",
    "  - Tuples\n",
    "  - Sets"
   ]
  },
  {
   "cell_type": "markdown",
   "id": "6af4866b-19a9-46f4-8084-7898b9c02004",
   "metadata": {},
   "source": [
    "## Boolean Variables\n",
    "Boolean Values are the two constant Objects True and False.\n",
    "They are used to represent truth values (Other values can also be considered as true or false).\n",
    "In numeric contexts (for example, when we used as the arguement to an arithmetic operator), they behave like the integers 0 and 1 respectively.\n",
    "The built-in function bool() can be used to cast any value to a Boolean, if the value can be represented as a truth value \n",
    "They are written as True and False respectively. "
   ]
  },
  {
   "cell_type": "code",
   "execution_count": 2,
   "id": "4b33af84-873a-4994-bc13-d547d2317993",
   "metadata": {},
   "outputs": [
    {
     "name": "stdout",
     "output_type": "stream",
     "text": [
      "True False\n"
     ]
    }
   ],
   "source": [
    "print(True,False)"
   ]
  },
  {
   "cell_type": "code",
   "execution_count": 3,
   "id": "8dfc3215-f772-422f-b1de-ec05ebc1c7dc",
   "metadata": {},
   "outputs": [
    {
     "data": {
      "text/plain": [
       "bool"
      ]
     },
     "execution_count": 3,
     "metadata": {},
     "output_type": "execute_result"
    }
   ],
   "source": [
    "type(True)"
   ]
  },
  {
   "cell_type": "code",
   "execution_count": 4,
   "id": "8c419aeb-d825-4563-9993-8d351a860154",
   "metadata": {},
   "outputs": [
    {
     "data": {
      "text/plain": [
       "bool"
      ]
     },
     "execution_count": 4,
     "metadata": {},
     "output_type": "execute_result"
    }
   ],
   "source": [
    "type(False)"
   ]
  },
  {
   "cell_type": "code",
   "execution_count": 21,
   "id": "2866f4a2-0beb-4171-8f8a-ee2ac0f8372d",
   "metadata": {},
   "outputs": [],
   "source": [
    "my_str = \"Phanindra\""
   ]
  },
  {
   "cell_type": "code",
   "execution_count": 22,
   "id": "b172c2f7-bd05-411a-9c3a-d336f1435912",
   "metadata": {},
   "outputs": [
    {
     "name": "stdout",
     "output_type": "stream",
     "text": [
      "Phanindra\n"
     ]
    }
   ],
   "source": [
    "print(my_str)"
   ]
  },
  {
   "cell_type": "code",
   "execution_count": 24,
   "id": "569327bb-e927-49d0-b1d8-4ab53a1c92cd",
   "metadata": {},
   "outputs": [
    {
     "name": "stdout",
     "output_type": "stream",
     "text": [
      "True\n",
      "True\n",
      "False\n",
      "True\n",
      "False\n",
      "False\n",
      "False\n",
      "True\n",
      "True\n"
     ]
    }
   ],
   "source": [
    "print(my_str.isalnum()) # Check if all char are numbers\n",
    "\n",
    "#Purpose: Checks if all characters in the string are either alphabetic (a-z, A-Z) or numeric (0-9).\n",
    "#\"Phanindra\" contains only alphabetic letters (P,h,a,n,i,n,d,r,a).\n",
    "#No numbers or special characters are present.\n",
    "#Result: True\n",
    "\n",
    "print(my_str.isalpha()) # Check if all char in string are alphabetic\n",
    "\n",
    "#Purpose: Checks if all characters are only alphabetic (a-z, A-Z).\n",
    "#\"Phanindra\" has no numbers/symbols—just letters.\n",
    "#Result: True\n",
    "\n",
    "print(my_str.isdigit()) # Check if string contains Digits\n",
    "\n",
    "#Purpose: Checks if all characters in the string are digits (0-9).\n",
    "#\"Phanindra\" contains only alphabetic letters (P,h,a,n,i,n,d,r,a).\n",
    "#Since there are no numbers, it returns False.\n",
    "\n",
    "print(my_str.istitle()) # Check if string contains Title words\n",
    "\n",
    "#Purpose: Checks if the string follows title case (first letter of each word is uppercase, rest lowercase).\n",
    "#\"Phanindra\" has its first letter uppercase (P) and the rest lowercase (hanindra).\n",
    "#Result: True\n",
    "\n",
    "print(my_str.isupper()) # Check if string contains Upper case\n",
    "\n",
    "#Purpose: Checks if all characters are uppercase (A-Z).\n",
    "#\"Phanindra\" has only the first letter uppercase (P), and the rest are lowercase (hanindra).\n",
    "#Result: False\n",
    "\n",
    "print(my_str.islower()) # Check if string contains Lower Case\n",
    "\n",
    "#Purpose: Checks if all characters are lowercase (a-z).\n",
    "#\"Phanindra\" has the first letter uppercase (P), so it fails the lowercase check.\n",
    "#Result: False\n",
    "\n",
    "print(my_str.isspace()) # Check if string contains Spaces\n",
    "\n",
    "#Purpose: Checks if the string contains only whitespace characters (space, tab, newline).\n",
    "#\"Phanindra\" contains letters, not spaces.\n",
    "#Result: False\n",
    "\n",
    "print(my_str.startswith('P')) # Check if string Starts with P\n",
    "\n",
    "#Purpose: Checks if the string starts with a specific character/substring.\n",
    "#\"Phanindra\" starts with the letter 'P'.\n",
    "#Result: True\n",
    "#If it were \"phanindra\", it would return False (case-sensitive).\n",
    "\n",
    "\n",
    "print(my_str.endswith('a')) # Check if string Ends with a\n",
    "\n",
    "#Purpose: Checks if the string ends with a specific character/substring.\n",
    "#\"Phanindra\" ends with the letter 'a'.\n",
    "#Result: True\n",
    "#If it were \"PhanindrA\", it would return False (case-sensitive).\n",
    "\n"
   ]
  },
  {
   "cell_type": "markdown",
   "id": "0727d14f-f089-4b4b-965b-bd251a452eed",
   "metadata": {},
   "source": [
    "# Boolean and Logic Operators\n",
    "- Boolean logic operators are used to combine or modify True/False (boolean) values in Python. \n",
    "- They are essential for decision-making in conditions (if statements), loops, and filtering data.\n"
   ]
  },
  {
   "cell_type": "code",
   "execution_count": null,
   "id": "5352d8df-30a1-4a40-a4fe-e85be53a0a06",
   "metadata": {},
   "outputs": [],
   "source": [
    "#and: Both conditions must be True e.g: if we 2 conditions like(True and False) Result should be\tFalse.\n",
    "# or: Atleast 1 condition must be True e.g: if we 2 conditions like(True or False) Result should be True.\n",
    "#not: Reverses the boolean value is\t(not True) Result should be\tFalse and viceversa."
   ]
  },
  {
   "cell_type": "code",
   "execution_count": 25,
   "id": "751939c7-4d65-4c0f-b188-505234a98d71",
   "metadata": {},
   "outputs": [],
   "source": [
    "# and Operator: Rule: Returns True only if both operands are True.\n",
    "\n",
    "#Truth Table for and\n",
    "A\tB\tA and B\n",
    "T\tT\t  T\n",
    "T\tF\t  F\n",
    "F\tT\t  F\n",
    "F\tF\t  F"
   ]
  },
  {
   "cell_type": "code",
   "execution_count": 26,
   "id": "5792ed3a-99d0-474a-a20e-d82bb88c2b4d",
   "metadata": {},
   "outputs": [],
   "source": [
    "has_money = True\n",
    "has_time = False\n",
    "\n",
    "can_buy = has_money and has_time"
   ]
  },
  {
   "cell_type": "code",
   "execution_count": 27,
   "id": "aad4ff3c-d1fd-47d8-82c3-7845f6b9973f",
   "metadata": {},
   "outputs": [
    {
     "name": "stdout",
     "output_type": "stream",
     "text": [
      "False\n"
     ]
    }
   ],
   "source": [
    "print(can_buy)"
   ]
  },
  {
   "cell_type": "code",
   "execution_count": 28,
   "id": "985f10eb-8346-4a08-9363-92d0f97bb2f6",
   "metadata": {},
   "outputs": [],
   "source": [
    "has_money = True\n",
    "has_time =  True\n",
    "\n",
    "can_buy = has_money and has_time"
   ]
  },
  {
   "cell_type": "code",
   "execution_count": 29,
   "id": "63629e34-22e2-4ce1-9e43-6f1e16edd19f",
   "metadata": {},
   "outputs": [
    {
     "name": "stdout",
     "output_type": "stream",
     "text": [
      "True\n"
     ]
    }
   ],
   "source": [
    "print(can_buy)"
   ]
  },
  {
   "cell_type": "code",
   "execution_count": 30,
   "id": "f268d4db-a1ac-481b-8ac1-18424398ec4b",
   "metadata": {},
   "outputs": [],
   "source": [
    "has_money = False\n",
    "has_time = True\n",
    "\n",
    "can_buy = has_money and has_time"
   ]
  },
  {
   "cell_type": "code",
   "execution_count": 31,
   "id": "582cfb5f-f77e-40f0-b49a-1d310be6e0ee",
   "metadata": {},
   "outputs": [
    {
     "name": "stdout",
     "output_type": "stream",
     "text": [
      "False\n"
     ]
    }
   ],
   "source": [
    "print(can_buy)"
   ]
  },
  {
   "cell_type": "code",
   "execution_count": 32,
   "id": "0049b5fd-14fb-4474-9d10-6f620763bec2",
   "metadata": {},
   "outputs": [],
   "source": [
    "has_money = False\n",
    "has_time = False\n",
    "\n",
    "can_buy = has_money and has_time"
   ]
  },
  {
   "cell_type": "code",
   "execution_count": 33,
   "id": "7a2b1f7a-be53-4f8c-9aa1-8abe7833e649",
   "metadata": {},
   "outputs": [
    {
     "name": "stdout",
     "output_type": "stream",
     "text": [
      "False\n"
     ]
    }
   ],
   "source": [
    "print(can_buy)"
   ]
  },
  {
   "cell_type": "code",
   "execution_count": 44,
   "id": "92cf47c1-7148-48be-84d3-4193641603b7",
   "metadata": {},
   "outputs": [],
   "source": [
    "my_str =\"Phanindra\"\n",
    "str_example = \"Mokshith123\""
   ]
  },
  {
   "cell_type": "code",
   "execution_count": 45,
   "id": "35176493-d45f-4dd1-a912-c1dfc3369868",
   "metadata": {},
   "outputs": [
    {
     "data": {
      "text/plain": [
       "True"
      ]
     },
     "execution_count": 45,
     "metadata": {},
     "output_type": "execute_result"
    }
   ],
   "source": [
    "my_str.isalpha() and str_example.isalnum()"
   ]
  },
  {
   "cell_type": "code",
   "execution_count": 52,
   "id": "92828b17-5e42-4c57-9fd5-498535b2ea40",
   "metadata": {},
   "outputs": [],
   "source": [
    "# Real World Example : Login System\n",
    "\n",
    "correct_password = True\n",
    "correct_username = True"
   ]
  },
  {
   "cell_type": "code",
   "execution_count": 53,
   "id": "92137b02-7b80-419e-9d51-d818fd895f1b",
   "metadata": {},
   "outputs": [
    {
     "name": "stdout",
     "output_type": "stream",
     "text": [
      "Login successful! ✅\n"
     ]
    }
   ],
   "source": [
    "if correct_username and correct_password:\n",
    "    print(\"Login successful! ✅\")\n",
    "else:\n",
    "    print(\"Access denied! ❌\")"
   ]
  },
  {
   "cell_type": "code",
   "execution_count": null,
   "id": "e829a065-74f5-40e1-9d9e-09d43e3472d9",
   "metadata": {},
   "outputs": [],
   "source": [
    "# or Operator: Rule: Returns True if at least one operand is True.\n",
    "\n",
    "#Truth Table for or\n",
    "\n",
    "A\tB\tA or B\n",
    "T\tT\tT\n",
    "T\tF\tT\n",
    "F\tT\tT\n",
    "F\tF\tF"
   ]
  },
  {
   "cell_type": "code",
   "execution_count": 34,
   "id": "9221ad97-b2f5-4577-8d4c-bc154edbe634",
   "metadata": {},
   "outputs": [],
   "source": [
    "is_weekend = False\n",
    "is_holiday = True\n",
    "\n",
    "can_rest = is_weekend or is_holiday"
   ]
  },
  {
   "cell_type": "code",
   "execution_count": 35,
   "id": "ea888ecc-9d3f-456d-8d46-5c46af188e7f",
   "metadata": {},
   "outputs": [
    {
     "name": "stdout",
     "output_type": "stream",
     "text": [
      "True\n"
     ]
    }
   ],
   "source": [
    "print(can_rest)"
   ]
  },
  {
   "cell_type": "code",
   "execution_count": 36,
   "id": "c209b98b-09c7-4435-95a7-9d9d1a4d3eb7",
   "metadata": {},
   "outputs": [],
   "source": [
    "is_weekend = True\n",
    "is_holiday = False\n",
    "\n",
    "can_rest = is_weekend or is_holiday"
   ]
  },
  {
   "cell_type": "code",
   "execution_count": 37,
   "id": "e8992b8d-2dee-40f4-9971-a06c4b81bb83",
   "metadata": {},
   "outputs": [
    {
     "name": "stdout",
     "output_type": "stream",
     "text": [
      "True\n"
     ]
    }
   ],
   "source": [
    "print(can_rest)"
   ]
  },
  {
   "cell_type": "code",
   "execution_count": 38,
   "id": "6abe0a04-fe60-43fd-be0a-181c6b6b4f57",
   "metadata": {},
   "outputs": [],
   "source": [
    "is_weekend = True\n",
    "is_holiday = True\n",
    "\n",
    "can_rest = is_weekend or is_holiday"
   ]
  },
  {
   "cell_type": "code",
   "execution_count": 39,
   "id": "87e54921-6e31-4274-be76-6d11c8d44ca5",
   "metadata": {},
   "outputs": [
    {
     "name": "stdout",
     "output_type": "stream",
     "text": [
      "True\n"
     ]
    }
   ],
   "source": [
    "print(can_rest)"
   ]
  },
  {
   "cell_type": "code",
   "execution_count": 40,
   "id": "d2bb2f37-ef28-4184-ab36-c3da5bc8b475",
   "metadata": {},
   "outputs": [],
   "source": [
    "is_weekend = False\n",
    "is_holiday = False\n",
    "\n",
    "can_rest = is_weekend or is_holiday"
   ]
  },
  {
   "cell_type": "code",
   "execution_count": 41,
   "id": "cbda01c5-342d-4a67-9730-088299cb8b67",
   "metadata": {},
   "outputs": [
    {
     "name": "stdout",
     "output_type": "stream",
     "text": [
      "False\n"
     ]
    }
   ],
   "source": [
    "print(can_rest)"
   ]
  },
  {
   "cell_type": "code",
   "execution_count": 42,
   "id": "d91f1462-be48-44ec-872c-d1755f6ebe6b",
   "metadata": {},
   "outputs": [],
   "source": [
    "my_str =\"Phanindra\"\n",
    "str_example = \"Mokshith Ram\""
   ]
  },
  {
   "cell_type": "code",
   "execution_count": 43,
   "id": "2a054250-5a08-4487-8dcb-4494bf3c776d",
   "metadata": {},
   "outputs": [
    {
     "data": {
      "text/plain": [
       "True"
      ]
     },
     "execution_count": 43,
     "metadata": {},
     "output_type": "execute_result"
    }
   ],
   "source": [
    "my_str.isalpha() or str_example.isnumeric()"
   ]
  },
  {
   "cell_type": "code",
   "execution_count": 54,
   "id": "2b6a0ba6-0287-4b49-9134-af44eb97b156",
   "metadata": {},
   "outputs": [],
   "source": [
    "# Real world Example: Discount Eligibility\n",
    "is_student = True\n",
    "is_senior = False\n",
    "\n",
    "gets_discount = is_student or is_senior"
   ]
  },
  {
   "cell_type": "code",
   "execution_count": 55,
   "id": "0cd7399c-87dd-4c5d-8ec7-d5156bf79365",
   "metadata": {},
   "outputs": [
    {
     "name": "stdout",
     "output_type": "stream",
     "text": [
      "True\n"
     ]
    }
   ],
   "source": [
    "print(gets_discount)"
   ]
  },
  {
   "cell_type": "code",
   "execution_count": null,
   "id": "8e0b7fd6-4ac3-4e58-826b-ff89f4313361",
   "metadata": {},
   "outputs": [],
   "source": [
    "# not Operator: Rule: Flips True to False and vice versa.\n",
    "\n",
    "#Truth Table for not\n",
    "A\tnot A\n",
    "T\t F\n",
    "F\t T"
   ]
  },
  {
   "cell_type": "code",
   "execution_count": 47,
   "id": "cde929ac-b7a4-445f-bbe0-e64f53ce23be",
   "metadata": {},
   "outputs": [],
   "source": [
    "is_raining = True\n",
    "is_dry = not is_raining\n"
   ]
  },
  {
   "cell_type": "code",
   "execution_count": 48,
   "id": "247e2d44-3a44-4eb7-8627-0fe99e54ec58",
   "metadata": {},
   "outputs": [
    {
     "name": "stdout",
     "output_type": "stream",
     "text": [
      "False\n"
     ]
    }
   ],
   "source": [
    "print(is_dry) "
   ]
  },
  {
   "cell_type": "code",
   "execution_count": 49,
   "id": "5eae8193-5cea-47ed-8cfb-9991d7bfef7d",
   "metadata": {},
   "outputs": [],
   "source": [
    "is_raining = False\n",
    "is_dry = not is_raining\n"
   ]
  },
  {
   "cell_type": "code",
   "execution_count": 50,
   "id": "ecfcd780-f973-426e-98b5-d51d83058910",
   "metadata": {},
   "outputs": [
    {
     "name": "stdout",
     "output_type": "stream",
     "text": [
      "True\n"
     ]
    }
   ],
   "source": [
    "print(is_dry) "
   ]
  },
  {
   "cell_type": "code",
   "execution_count": 56,
   "id": "8ac224d0-c6e7-4d4b-b9c8-f7403744b5ca",
   "metadata": {},
   "outputs": [],
   "source": [
    "# Real world Example: Discount Eligibility\n",
    "lights_on = True\n",
    "lights_on = not lights_on  # Flips True → False"
   ]
  },
  {
   "cell_type": "code",
   "execution_count": 57,
   "id": "64dbd410-6e96-413b-b3ad-27a38b850ab9",
   "metadata": {},
   "outputs": [
    {
     "name": "stdout",
     "output_type": "stream",
     "text": [
      "False\n"
     ]
    }
   ],
   "source": [
    "print(lights_on)"
   ]
  },
  {
   "cell_type": "code",
   "execution_count": 58,
   "id": "03b0c078-6620-4274-b07b-f559374f0b15",
   "metadata": {},
   "outputs": [],
   "source": [
    "lights_on = False\n",
    "lights_on = not lights_on  # Flips False → True"
   ]
  },
  {
   "cell_type": "code",
   "execution_count": 59,
   "id": "3778350d-3581-4acf-8bbb-7b94603af1fd",
   "metadata": {},
   "outputs": [
    {
     "name": "stdout",
     "output_type": "stream",
     "text": [
      "True\n"
     ]
    }
   ],
   "source": [
    "print(lights_on)"
   ]
  },
  {
   "cell_type": "markdown",
   "id": "359fdaa0-380c-4424-acf8-177f28168253",
   "metadata": {},
   "source": [
    "# Lists in Python\n",
    "- Lists are one of Python's most versatile and commonly used data structures. \n",
    "- They are ordered, mutable (changeable), and allow duplicate elements.\n",
    "- Lists are defined by having values between square brackets[ ].\n",
    "\n",
    "# Characteristics of Lists\n",
    "- Ordered: Items have a defined order that won't change\n",
    "- Mutable: Can be changed after creation (add, remove, modify items)\n",
    "- Allows duplicates: Can contain items with the same value\n",
    "- Heterogeneous: Can contain different data types"
   ]
  },
  {
   "cell_type": "markdown",
   "id": "8188e1f4-67b1-402e-a8fe-6d2c9c790e8a",
   "metadata": {},
   "source": [
    "## Creating Lists"
   ]
  },
  {
   "cell_type": "code",
   "execution_count": 1,
   "id": "fd6ff95c-131e-4930-9327-21494424efd3",
   "metadata": {},
   "outputs": [],
   "source": [
    "# Empty list\n",
    "empty_list = []\n",
    "empty_list = list()"
   ]
  },
  {
   "cell_type": "code",
   "execution_count": 2,
   "id": "372e38bd-9a59-4a60-a89b-54649954f323",
   "metadata": {},
   "outputs": [],
   "source": [
    "# List with items\n",
    "fruits = ['apple', 'banana', 'cherry']\n",
    "numbers = [1, 2, 3, 4, 5]\n",
    "mixed = [1, 'hello', 3.14, True]"
   ]
  },
  {
   "cell_type": "code",
   "execution_count": 3,
   "id": "dd834ee6-8c7e-458a-b141-f409d0a5d8d7",
   "metadata": {},
   "outputs": [
    {
     "data": {
      "text/plain": [
       "['apple', 'banana', 'cherry']"
      ]
     },
     "execution_count": 3,
     "metadata": {},
     "output_type": "execute_result"
    }
   ],
   "source": [
    "fruits"
   ]
  },
  {
   "cell_type": "code",
   "execution_count": 4,
   "id": "bfb661ad-834f-4340-bcac-9a2bbadaa424",
   "metadata": {},
   "outputs": [
    {
     "data": {
      "text/plain": [
       "[1, 2, 3, 4, 5]"
      ]
     },
     "execution_count": 4,
     "metadata": {},
     "output_type": "execute_result"
    }
   ],
   "source": [
    "numbers"
   ]
  },
  {
   "cell_type": "code",
   "execution_count": 5,
   "id": "6404a49e-e540-4779-b2f7-87ac8b512133",
   "metadata": {},
   "outputs": [
    {
     "data": {
      "text/plain": [
       "[1, 'hello', 3.14, True]"
      ]
     },
     "execution_count": 5,
     "metadata": {},
     "output_type": "execute_result"
    }
   ],
   "source": [
    "mixed"
   ]
  },
  {
   "cell_type": "markdown",
   "id": "f6dd2550-84df-490b-8089-385bf6544024",
   "metadata": {},
   "source": [
    "## Accessing List Elements"
   ]
  },
  {
   "cell_type": "code",
   "execution_count": 6,
   "id": "1a5ff673-d960-4940-b3aa-7cc3c68b9faf",
   "metadata": {},
   "outputs": [],
   "source": [
    "fruits = ['apple', 'banana', 'cherry']\n"
   ]
  },
  {
   "cell_type": "code",
   "execution_count": 8,
   "id": "eb5014c8-9036-403e-aeed-fa3bc7a7a073",
   "metadata": {},
   "outputs": [
    {
     "name": "stdout",
     "output_type": "stream",
     "text": [
      "apple\n",
      "banana\n",
      "cherry\n"
     ]
    }
   ],
   "source": [
    "# Access by index\n",
    "print(fruits [0])# Index will starts from 0 in Python\n",
    "print(fruits [1])\n",
    "print(fruits [-1])# Negative indexing (starts from end)"
   ]
  },
  {
   "cell_type": "markdown",
   "id": "88dd85a1-6141-442d-a10b-2bc900551aaf",
   "metadata": {},
   "source": [
    "# SLicing:\n",
    "- Slicing is a technique in Python that allows you to extract a portion (or \"slice\") of a list (or other sequence types like strings, tuples). \n",
    "- It creates a new list containing the requested elements.\n",
    "- new_list = original_list[start:stop:step]\n",
    "- start: Index where the slice begins (inclusive, default is 0)\n",
    "- stop: Index where the slice ends (exclusive, default is length of list)\n",
    "- step: Step size (default is 1)\n",
    "\n"
   ]
  },
  {
   "cell_type": "markdown",
   "id": "637d30e4-666d-4609-b2df-ca43e46f0470",
   "metadata": {},
   "source": [
    "# Important Notes\n",
    "- Slicing creates a new list - the original list remains unchanged\n",
    "- The start index is inclusive, the stop index is exclusive\n",
    "- All parameters are optional\n",
    "- Negative indices count from the end of the list (-1 is last element)\n",
    "- If step is negative, it goes through the list backwards\n"
   ]
  },
  {
   "cell_type": "code",
   "execution_count": 10,
   "id": "74f46d87-54a4-40d4-9c6e-31e2c812eb5a",
   "metadata": {},
   "outputs": [],
   "source": [
    "numbers = [0,1,2,3,4,5,6,7,8,9]"
   ]
  },
  {
   "cell_type": "code",
   "execution_count": 12,
   "id": "02a01aac-00c3-4dfa-b3bf-d09ffed4236f",
   "metadata": {},
   "outputs": [
    {
     "name": "stdout",
     "output_type": "stream",
     "text": [
      "[2, 3, 4]\n",
      "[0, 1, 2, 3, 4]\n",
      "[5, 6, 7, 8, 9]\n",
      "[0, 2, 4, 6, 8]\n",
      "[9, 8, 7, 6, 5, 4, 3, 2, 1, 0]\n",
      "[6, 7, 8]\n"
     ]
    }
   ],
   "source": [
    "print(numbers[2:5]) # Get elements from index 2 to 5 (5 not included)\n",
    "print(numbers[:5]) # Get elements from beginning to index 4\n",
    "print(numbers[5:])# Get elements from index 5 to end\n",
    "print(numbers[::2]) # Get every other element\n",
    "print(numbers[::-1]) # Reverse the list\n",
    "print(numbers[-4:-1])# Get elements from index -4 to -1 (negative indices count from end)"
   ]
  },
  {
   "cell_type": "markdown",
   "id": "e2f16919-13ec-4499-bff8-9869f947a001",
   "metadata": {},
   "source": [
    "# Modifying List"
   ]
  },
  {
   "cell_type": "code",
   "execution_count": 13,
   "id": "66727f8b-7443-4fa5-9847-3468064017b5",
   "metadata": {},
   "outputs": [],
   "source": [
    "fruits = ['apple', 'banana', 'cherry']"
   ]
  },
  {
   "cell_type": "code",
   "execution_count": 14,
   "id": "5672e30a-f1ed-4710-8249-d37c5ce45a5e",
   "metadata": {},
   "outputs": [],
   "source": [
    "fruits [1] =\"Blue Berry\" # Change an item"
   ]
  },
  {
   "cell_type": "code",
   "execution_count": 15,
   "id": "42e911be-fc14-4819-a8e2-4927ba1de77c",
   "metadata": {},
   "outputs": [
    {
     "name": "stdout",
     "output_type": "stream",
     "text": [
      "Blue Berry\n"
     ]
    }
   ],
   "source": [
    "print(fruits[1])"
   ]
  },
  {
   "cell_type": "code",
   "execution_count": 18,
   "id": "91daf7f8-d81c-4477-99d8-c0f5562d548c",
   "metadata": {},
   "outputs": [],
   "source": [
    "fruits.append('Orange')#append(): Add single element at end"
   ]
  },
  {
   "cell_type": "code",
   "execution_count": 19,
   "id": "67ce93a8-ffac-4335-8ab2-da4cce5488e8",
   "metadata": {},
   "outputs": [
    {
     "name": "stdout",
     "output_type": "stream",
     "text": [
      "['apple', 'Blue Berry', 'cherry', 'Orange']\n"
     ]
    }
   ],
   "source": [
    "print(fruits)"
   ]
  },
  {
   "cell_type": "code",
   "execution_count": 22,
   "id": "a9dc9792-5745-49cd-a667-a89789dd1cd2",
   "metadata": {},
   "outputs": [],
   "source": [
    "fruits.insert(3, 'mango')# insert(): Insert element at specific position\n"
   ]
  },
  {
   "cell_type": "code",
   "execution_count": 23,
   "id": "04224ffd-38b4-4e00-862c-b139e8f0bc51",
   "metadata": {},
   "outputs": [
    {
     "name": "stdout",
     "output_type": "stream",
     "text": [
      "['apple', 'mango', 'Blue Berry', 'mango', 'cherry', 'Orange']\n"
     ]
    }
   ],
   "source": [
    "print(fruits)"
   ]
  },
  {
   "cell_type": "code",
   "execution_count": 38,
   "id": "e9a24493-8507-44c2-add0-ea1b63559edc",
   "metadata": {},
   "outputs": [],
   "source": [
    "lst=[1,2,3,4,5,6]"
   ]
  },
  {
   "cell_type": "code",
   "execution_count": 39,
   "id": "bbe11927-184f-4998-85b6-09fa9248e6bd",
   "metadata": {},
   "outputs": [],
   "source": [
    "lst.extend([8,9])"
   ]
  },
  {
   "cell_type": "code",
   "execution_count": 40,
   "id": "7ac38715-cda4-4917-bf0f-121830e70672",
   "metadata": {},
   "outputs": [
    {
     "data": {
      "text/plain": [
       "[1, 2, 3, 4, 5, 6, 8, 9]"
      ]
     },
     "execution_count": 40,
     "metadata": {},
     "output_type": "execute_result"
    }
   ],
   "source": [
    "lst"
   ]
  },
  {
   "cell_type": "markdown",
   "id": "5f71b675-24c2-4e45-abf0-01b64d00aa44",
   "metadata": {},
   "source": [
    "# Common List Methods"
   ]
  },
  {
   "cell_type": "code",
   "execution_count": 41,
   "id": "c39f633b-3606-49c0-a2df-20b2bfc342f5",
   "metadata": {},
   "outputs": [
    {
     "name": "stdout",
     "output_type": "stream",
     "text": [
      "6\n",
      "2\n",
      "4\n"
     ]
    }
   ],
   "source": [
    "numbers = [3, 1, 4, 1, 5, 9]\n",
    "\n",
    "# Length of list\n",
    "print(len(numbers))  # Output: 6\n",
    "\n",
    "# Count occurrences\n",
    "print(numbers.count(1))  # Output: 2\n",
    "\n",
    "# Find index\n",
    "print(numbers.index(5))  # Output: 4\n",
    "\n",
    "# Sorting\n",
    "numbers.sort()           # Sorts in place\n",
    "sorted_numbers = sorted(numbers)  # Returns new sorted list\n",
    "\n",
    "# Reversing\n",
    "numbers.reverse()\n",
    "\n",
    "# Copying\n",
    "numbers_copy = numbers.copy()\n",
    "numbers_copy = list(numbers)\n",
    "numbers_copy = numbers[:]"
   ]
  },
  {
   "cell_type": "code",
   "execution_count": 32,
   "id": "b21c97c4-949a-437a-a37e-f76e08b5a54f",
   "metadata": {},
   "outputs": [
    {
     "ename": "ValueError",
     "evalue": "list.remove(x): x not in list",
     "output_type": "error",
     "traceback": [
      "\u001b[1;31m---------------------------------------------------------------------------\u001b[0m",
      "\u001b[1;31mValueError\u001b[0m                                Traceback (most recent call last)",
      "Cell \u001b[1;32mIn[32], line 1\u001b[0m\n\u001b[1;32m----> 1\u001b[0m fruits\u001b[38;5;241m.\u001b[39mremove(\u001b[38;5;124m'\u001b[39m\u001b[38;5;124mBlue Berry\u001b[39m\u001b[38;5;124m'\u001b[39m)\n",
      "\u001b[1;31mValueError\u001b[0m: list.remove(x): x not in list"
     ]
    }
   ],
   "source": [
    "fruits.remove('Blue Berry') # Remove by value - I removed already and tried to remove second time. now getting thr following error"
   ]
  },
  {
   "cell_type": "code",
   "execution_count": 27,
   "id": "c86ce10b-4140-48ec-8e72-62be9bddae2c",
   "metadata": {},
   "outputs": [
    {
     "name": "stdout",
     "output_type": "stream",
     "text": [
      "['apple', 'mango', 'mango', 'cherry', 'Orange']\n"
     ]
    }
   ],
   "source": [
    "print(fruits)"
   ]
  },
  {
   "cell_type": "code",
   "execution_count": 30,
   "id": "f285104e-0992-4347-abd9-6951cd014d1e",
   "metadata": {},
   "outputs": [],
   "source": [
    "fruits.remove('mango') # Remove by value"
   ]
  },
  {
   "cell_type": "code",
   "execution_count": 33,
   "id": "b8e497ab-f17f-41ee-a7b7-916cfc2cbb1b",
   "metadata": {},
   "outputs": [
    {
     "name": "stdout",
     "output_type": "stream",
     "text": [
      "['apple', 'mango', 'cherry', 'Orange']\n"
     ]
    }
   ],
   "source": [
    "print(fruits)"
   ]
  },
  {
   "cell_type": "code",
   "execution_count": 34,
   "id": "7517bc64-e027-4957-ab75-82a42b05e80b",
   "metadata": {},
   "outputs": [],
   "source": [
    "popped = fruits.pop(2)         # Remove by index and return it"
   ]
  },
  {
   "cell_type": "code",
   "execution_count": 35,
   "id": "46693b00-62ff-4231-8016-3b3a6274aafe",
   "metadata": {},
   "outputs": [
    {
     "name": "stdout",
     "output_type": "stream",
     "text": [
      "['apple', 'mango', 'Orange']\n"
     ]
    }
   ],
   "source": [
    "print(fruits)"
   ]
  },
  {
   "cell_type": "code",
   "execution_count": 36,
   "id": "376c3dbb-be5b-40dc-afed-a32fda0bc499",
   "metadata": {},
   "outputs": [],
   "source": [
    "del fruits[0]                  # Delete by index"
   ]
  },
  {
   "cell_type": "code",
   "execution_count": 37,
   "id": "d83bfa2d-a652-4af1-924f-c0d7da841227",
   "metadata": {},
   "outputs": [
    {
     "name": "stdout",
     "output_type": "stream",
     "text": [
      "['mango', 'Orange']\n"
     ]
    }
   ],
   "source": [
    "print(fruits)"
   ]
  },
  {
   "cell_type": "code",
   "execution_count": null,
   "id": "b83909bc-c38f-498e-8810-a63ea1cf77a8",
   "metadata": {},
   "outputs": [],
   "source": []
  },
  {
   "cell_type": "code",
   "execution_count": null,
   "id": "ed4eca55-987b-4027-a8cc-31514fa1ead4",
   "metadata": {},
   "outputs": [],
   "source": []
  },
  {
   "cell_type": "code",
   "execution_count": null,
   "id": "868dbac5-15c7-4948-a1df-53ab38b38faf",
   "metadata": {},
   "outputs": [],
   "source": []
  },
  {
   "cell_type": "code",
   "execution_count": null,
   "id": "6c690a60-0a3f-4139-ad1f-e100d0232bca",
   "metadata": {},
   "outputs": [],
   "source": []
  },
  {
   "cell_type": "code",
   "execution_count": null,
   "id": "c4c2ba0a-b805-485d-a1df-40646feb4c5d",
   "metadata": {},
   "outputs": [],
   "source": []
  },
  {
   "cell_type": "code",
   "execution_count": null,
   "id": "7d9125fa-9968-407e-9e52-7fe55f9029b7",
   "metadata": {},
   "outputs": [],
   "source": []
  },
  {
   "cell_type": "code",
   "execution_count": null,
   "id": "6cc2f47f-b4a3-40a4-9e81-77c38e9baabd",
   "metadata": {},
   "outputs": [],
   "source": []
  },
  {
   "cell_type": "code",
   "execution_count": null,
   "id": "96023ae8-1892-4afc-bc99-7729781defff",
   "metadata": {},
   "outputs": [],
   "source": []
  },
  {
   "cell_type": "code",
   "execution_count": null,
   "id": "c176044c-5fd0-4e2a-a262-4cfa271f7ee3",
   "metadata": {},
   "outputs": [],
   "source": []
  },
  {
   "cell_type": "code",
   "execution_count": null,
   "id": "2286dabf-5730-42d3-94a5-cff647ef0c54",
   "metadata": {},
   "outputs": [],
   "source": []
  },
  {
   "cell_type": "code",
   "execution_count": null,
   "id": "1f3c5678-40c1-4934-9806-73e9b9f5150a",
   "metadata": {},
   "outputs": [],
   "source": []
  }
 ],
 "metadata": {
  "kernelspec": {
   "display_name": "Python [conda env:base] *",
   "language": "python",
   "name": "conda-base-py"
  },
  "language_info": {
   "codemirror_mode": {
    "name": "ipython",
    "version": 3
   },
   "file_extension": ".py",
   "mimetype": "text/x-python",
   "name": "python",
   "nbconvert_exporter": "python",
   "pygments_lexer": "ipython3",
   "version": "3.13.5"
  }
 },
 "nbformat": 4,
 "nbformat_minor": 5
}
